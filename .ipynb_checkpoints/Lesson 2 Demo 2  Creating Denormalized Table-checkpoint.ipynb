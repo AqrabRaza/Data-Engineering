{
 "cells": [
  {
   "cell_type": "markdown",
   "id": "273535c5",
   "metadata": {},
   "source": [
    "## Creating Denormalized Table"
   ]
  },
  {
   "cell_type": "code",
   "execution_count": 1,
   "id": "1ebc6500",
   "metadata": {},
   "outputs": [],
   "source": [
    "import psycopg2"
   ]
  },
  {
   "cell_type": "code",
   "execution_count": 2,
   "id": "c8045f96",
   "metadata": {},
   "outputs": [],
   "source": [
    "try:\n",
    "    conn = psycopg2.connect(\"host=localhost dbname=udacity_db user=postgres password= 707707\")\n",
    "\n",
    "except psycopg2.Error as e:\n",
    "    print(\"Error: Could not make the connection to PostgreSQl Database\")\n",
    "    print(e)\n",
    "    \n",
    "try:\n",
    "    cur = conn.cursor()\n",
    "except psycopg2.Error as e:\n",
    "    print(\"Error: could not get curser to the Database\")\n",
    "    print(e)\n",
    "    \n",
    "conn.set_session(autocommit=True)"
   ]
  },
  {
   "cell_type": "code",
   "execution_count": 4,
   "id": "16e98de8",
   "metadata": {},
   "outputs": [],
   "source": [
    "try:\n",
    "    cur.execute(\"CREATE TABLE IF NOT EXISTS song_lenght (song_id int, song_lenght int);\")\n",
    "except psycopg2.Error as e:\n",
    "    print(\"Error: Issue in Creating table\")\n",
    "    print(e)\n",
    "    "
   ]
  },
  {
   "cell_type": "code",
   "execution_count": 5,
   "id": "e02dadd4",
   "metadata": {},
   "outputs": [],
   "source": [
    "try:\n",
    "    cur.execute(\"INSERT INTO song_lenght (song_id, song_lenght)\\\n",
    "                VALUES (%s, %s)\",\\\n",
    "                (1, 163))\n",
    "except psycopg2.Error as e:\n",
    "    print(\"Error: Inserting Row\")\n",
    "    print(e)\n",
    "    \n",
    "try:\n",
    "    cur.execute(\"INSERT INTO song_lenght (song_id, song_lenght)\\\n",
    "                VALUES (%s, %s)\",\\\n",
    "                (2, 137))\n",
    "except psycopg2.Error as e:\n",
    "    print(\"Error: Inserting Row\")\n",
    "    print(e)\n",
    "    \n",
    "    \n",
    "try:\n",
    "    cur.execute(\"INSERT INTO song_lenght (song_id, song_lenght)\\\n",
    "                VALUES (%s, %s)\",\\\n",
    "                (3, 145))\n",
    "except psycopg2.Error as e:\n",
    "    print(\"Error: Inserting Row\")\n",
    "    print(e)  \n",
    "    \n",
    "    \n",
    "try:\n",
    "    cur.execute(\"INSERT INTO song_lenght (song_id, song_lenght)\\\n",
    "                VALUES (%s, %s)\",\\\n",
    "                (4, 240))\n",
    "except psycopg2.Error as e:\n",
    "    print(\"Error: Inserting Row\")\n",
    "    print(e)  \n",
    "    \n",
    "    \n",
    "try:\n",
    "    cur.execute(\"INSERT INTO song_lenght (song_id, song_lenght)\\\n",
    "                VALUES (%s, %s)\",\\\n",
    "                (5, 227))\n",
    "except psycopg2.Error as e:\n",
    "    print(\"Error: Inserting Row\")\n",
    "    print(e)"
   ]
  },
  {
   "cell_type": "code",
   "execution_count": 7,
   "id": "f1a3a741",
   "metadata": {},
   "outputs": [
    {
     "name": "stdout",
     "output_type": "stream",
     "text": [
      "\n",
      "Table: ALBUM LIBRARY \n",
      "\n",
      "(1, 'Rubber Soul', 1, 1965)\n",
      "(2, 'Let It Be', 1, 1970)\n",
      "\n",
      " Table: SONGS LIBRARY \n",
      "\n",
      "(1, 1, 'The Michelle')\n",
      "(1, 2, 'Think For YourSelf')\n",
      "(1, 3, 'In My Life')\n",
      "(2, 4, 'Let it Be')\n",
      "(2, 5, 'Across The Univers')\n",
      "\n",
      "Table: ARTIST LIBRARY \n",
      "\n",
      "(1, 'The Beatles')\n",
      "\n",
      "Table: SONGS LENGHT in Second\n",
      "\n",
      "(1, 163)\n",
      "(2, 137)\n",
      "(3, 145)\n",
      "(4, 240)\n",
      "(5, 227)\n"
     ]
    }
   ],
   "source": [
    "try:\n",
    "    cur.execute(\"select * from album_library3;\")\n",
    "except psycopg2.Error as e:\n",
    "    print(\"Error: select *\")\n",
    "    print(e)\n",
    "\n",
    "print(\"\\nTable: ALBUM LIBRARY \\n\")\n",
    "row = cur.fetchone()\n",
    "while row:\n",
    "    print(row)\n",
    "    row = cur.fetchone()\n",
    "    \n",
    "\n",
    "print(\"\\n Table: SONGS LIBRARY \\n\")\n",
    "try:\n",
    "    cur.execute(\"select * from song_library3;\")\n",
    "except psycopg2.Error as e:\n",
    "    print(\"Error: select *\")\n",
    "    print(e)\n",
    "\n",
    "row = cur.fetchone()\n",
    "while row:\n",
    "    print(row)\n",
    "    row = cur.fetchone()\n",
    "    \n",
    "    \n",
    "try:\n",
    "    cur.execute(\"select * from artist_library;\")\n",
    "except psycopg2.Error as e:\n",
    "    print(\"Error: select *\")\n",
    "    print(e)\n",
    "\n",
    "print(\"\\nTable: ARTIST LIBRARY \\n\")\n",
    "row = cur.fetchone()\n",
    "while row:\n",
    "    print(row)\n",
    "    row = cur.fetchone()\n",
    "    \n",
    "\n",
    "try:\n",
    "    cur.execute(\"select * from song_lenght;\")\n",
    "except psycopg2.Error as e:\n",
    "    print(\"Error: select *\")\n",
    "    print(e)\n",
    "\n",
    "print(\"\\nTable: SONGS LENGHT in Second\\n\")\n",
    "row = cur.fetchone()\n",
    "while row:\n",
    "    print(row)\n",
    "    row = cur.fetchone()    \n"
   ]
  },
  {
   "cell_type": "code",
   "execution_count": 19,
   "id": "d99e1eda",
   "metadata": {},
   "outputs": [
    {
     "name": "stdout",
     "output_type": "stream",
     "text": [
      "(1, 'The Beatles', 1, 'Rubber Soul', 1965, 1, 'The Michelle', 163)\n",
      "(1, 'The Beatles', 1, 'Rubber Soul', 1965, 2, 'Think For YourSelf', 137)\n",
      "(1, 'The Beatles', 1, 'Rubber Soul', 1965, 3, 'In My Life', 145)\n",
      "(1, 'The Beatles', 2, 'Let It Be', 1970, 4, 'Let it Be', 240)\n",
      "(1, 'The Beatles', 2, 'Let It Be', 1970, 5, 'Across The Univers', 227)\n"
     ]
    }
   ],
   "source": [
    "try:\n",
    "    cur.execute(\"SELECT artist_library.artist_id, artist_name, album_library3.album_id, album_name, year,song_library3.song_id, song_name, song_lenght FROM (( artist_library JOIN album_library3 ON \\\n",
    "                                artist_library.artist_id = album_library3.artist_id) JOIN\\\n",
    "                song_library3 ON song_library3.album_id = album_library3.album_id) JOIN song_lenght ON song_library3.song_id = song_lenght.song_id;;\")\n",
    "except psycopg2.Error as e:\n",
    "    print(\"Error: Issue in Creating table\")\n",
    "    print(e)\n",
    "    \n",
    "row = cur.fetchone()\n",
    "while row:\n",
    "    print(row)\n",
    "    row = cur.fetchone()"
   ]
  },
  {
   "cell_type": "code",
   "execution_count": 21,
   "id": "cf9379f8",
   "metadata": {},
   "outputs": [
    {
     "name": "stdout",
     "output_type": "stream",
     "text": [
      "('The Beatles', 'Rubber Soul', 1965, 'The Michelle', 163)\n",
      "('The Beatles', 'Rubber Soul', 1965, 'Think For YourSelf', 137)\n",
      "('The Beatles', 'Rubber Soul', 1965, 'In My Life', 145)\n",
      "('The Beatles', 'Let It Be', 1970, 'Let it Be', 240)\n",
      "('The Beatles', 'Let It Be', 1970, 'Across The Univers', 227)\n"
     ]
    }
   ],
   "source": [
    "## Query 1: Select artist_name , album_name, year, song_name, song_lenght FROM <minimum number of tables>\n",
    "\n",
    "try:\n",
    "    cur.execute(\"SELECT artist_library.artist_name, album_library3.album_name, year, song_library3.song_name, song_lenght FROM (( artist_library JOIN album_library3 ON \\\n",
    "                                artist_library.artist_id = album_library3.artist_id) JOIN\\\n",
    "                song_library3 ON song_library3.album_id = album_library3.album_id) JOIN song_lenght ON song_library3.song_id = song_lenght.song_id;;\")\n",
    "except psycopg2.Error as e:\n",
    "    print(\"Error: Issue in Creating table\")\n",
    "    print(e)\n",
    "    \n",
    "row = cur.fetchone()\n",
    "while row:\n",
    "    print(row)\n",
    "    row = cur.fetchone()"
   ]
  },
  {
   "cell_type": "code",
   "execution_count": 32,
   "id": "074e59eb",
   "metadata": {},
   "outputs": [
    {
     "name": "stdout",
     "output_type": "stream",
     "text": [
      "('Rubber Soul', 445)\n",
      "('Let It Be', 467)\n"
     ]
    }
   ],
   "source": [
    "## Query 2: Select album_name , SUM(song_lenght) FROM <minimum number of tables> GROUPBY album_name\n",
    "\n",
    "try:\n",
    "    cur.execute(\"SELECT album_library3.album_name, SUM(song_lenght.song_lenght) FROM (song_lenght JOIN song_library3 ON song_library3.song_id = song_lenght.song_id)\\\n",
    "                JOIN album_library3 ON song_library3.album_id = album_library3.album_id GROUP BY album_library3.album_name;\")\n",
    "except psycopg2.Error as e:\n",
    "    print(\"Error: Issue in Creating table\")\n",
    "    print(e)\n",
    "    \n",
    "row = cur.fetchone()\n",
    "while row:\n",
    "    print(row)\n",
    "    row = cur.fetchone()"
   ]
  },
  {
   "cell_type": "code",
   "execution_count": 33,
   "id": "8b679c68",
   "metadata": {},
   "outputs": [],
   "source": [
    "## Query 1: Select artist_name, album_name, year, song_name, song_lenght FROM <minimum number of tables> using Denoramlization\n",
    "## first add song_lenght to song_library tables and artisit_name to album_library tables\n",
    "\n",
    "try:\n",
    "    cur.execute(\"CREATE TABLE IF NOT EXISTS song_library4 (album_id int, song_id int, song_name varchar, song_lenght int);\")\n",
    "except psycopg2.Error as e:\n",
    "    print(\"Error: Issue in Creating table\")\n",
    "    print(e)"
   ]
  },
  {
   "cell_type": "code",
   "execution_count": 35,
   "id": "23fb89aa",
   "metadata": {},
   "outputs": [],
   "source": [
    "try:\n",
    "    cur.execute(\"INSERT INTO song_library4 (album_id, song_id, song_name, song_lenght)\\\n",
    "                VALUES (%s, %s,%s, %s)\",\\\n",
    "                (1, 1, \"The Michelle\", 163))\n",
    "except psycopg2.Error as e:\n",
    "    print(\"Error: Inserting Row\")\n",
    "    print(e)\n",
    "    \n",
    "    \n",
    "try:\n",
    "    cur.execute(\"INSERT INTO song_library4 (album_id, song_id, song_name, song_lenght)\\\n",
    "                VALUES (%s, %s,%s, %s)\",\\\n",
    "                (1, 2, \"Think For YourSelf\", 137))\n",
    "except psycopg2.Error as e:\n",
    "    print(\"Error: Inserting Row\")\n",
    "    print(e)\n",
    "    \n",
    "try:\n",
    "    cur.execute(\"INSERT INTO song_library4 (album_id, song_id, song_name, song_lenght)\\\n",
    "                VALUES (%s, %s,%s, %s)\",\\\n",
    "                (1, 3, \"In My Life\", 145))\n",
    "except psycopg2.Error as e:\n",
    "    print(\"Error: Inserting Row\")\n",
    "    print(e)\n",
    "    \n",
    "try:\n",
    "    cur.execute(\"INSERT INTO song_library4 (album_id, song_id, song_name, song_lenght)\\\n",
    "                VALUES (%s, %s,%s, %s)\",\\\n",
    "                (2, 4, \"Let it Be\", 240))\n",
    "except psycopg2.Error as e:\n",
    "    print(\"Error: Inserting Row\")\n",
    "    print(e)\n",
    "    \n",
    "\n",
    "try:\n",
    "    cur.execute(\"INSERT INTO song_library4 (album_id, song_id, song_name, song_lenght)\\\n",
    "                VALUES (%s, %s,%s, %s)\",\\\n",
    "                (2, 5, \"Across The Univers\", 227))\n",
    "except psycopg2.Error as e:\n",
    "    print(\"Error: Inserting Row\")\n",
    "    print(e)"
   ]
  },
  {
   "cell_type": "code",
   "execution_count": 36,
   "id": "220b8058",
   "metadata": {},
   "outputs": [],
   "source": [
    "try:\n",
    "    cur.execute(\"CREATE TABLE IF NOT EXISTS album_library4 (album_id int, album_name varchar, artist_id int, year int, artist_name varchar);\")\n",
    "except psycopg2.Error as e:\n",
    "    print(\"Error: Issue in Creating table\")\n",
    "    print(e)"
   ]
  },
  {
   "cell_type": "code",
   "execution_count": 37,
   "id": "08626666",
   "metadata": {},
   "outputs": [],
   "source": [
    "try:\n",
    "    cur.execute(\"INSERT INTO album_library4 (album_id, album_name, artist_id, year, artist_name)\\\n",
    "                VALUES (%s, %s,%s, %s, %s)\",\\\n",
    "                (1, \"Rubber Soul\", 1, 1965, \"The Beatles\"))\n",
    "except psycopg2.Error as e:\n",
    "    print(\"Error: Inserting Row\")\n",
    "    print(e)\n",
    "    \n",
    "    \n",
    "try:\n",
    "    cur.execute(\"INSERT INTO album_library4 (album_id, album_name, artist_id, year, artist_name)\\\n",
    "                VALUES (%s, %s,%s, %s, %s)\",\\\n",
    "                (2, \"Let It Be\", 1, 1970, \"The Beatles\"))\n",
    "except psycopg2.Error as e:\n",
    "    print(\"Error: Inserting Row\")\n",
    "    print(e)"
   ]
  },
  {
   "cell_type": "code",
   "execution_count": 39,
   "id": "24b383f1",
   "metadata": {},
   "outputs": [
    {
     "name": "stdout",
     "output_type": "stream",
     "text": [
      "('The Beatles', 'Rubber Soul', 1965, 'The Michelle', 163)\n",
      "('The Beatles', 'Rubber Soul', 1965, 'Think For YourSelf', 137)\n",
      "('The Beatles', 'Rubber Soul', 1965, 'In My Life', 145)\n",
      "('The Beatles', 'Let It Be', 1970, 'Let it Be', 240)\n",
      "('The Beatles', 'Let It Be', 1970, 'Across The Univers', 227)\n"
     ]
    }
   ],
   "source": [
    "## Query 1\n",
    "\n",
    "try:\n",
    "    cur.execute(\"SELECT album_library4.artist_name, album_name, year, song_library4.song_name, song_lenght FROM album_library4 JOIN\\\n",
    "                song_library4 ON  album_library4.album_id = song_library4.album_id\")\n",
    "except psycopg2.Error as e:\n",
    "    print(\"Error: Issue in Creating table\")\n",
    "    print(e)\n",
    "    \n",
    "row = cur.fetchone()\n",
    "while row:\n",
    "    print(row)\n",
    "    row = cur.fetchone()"
   ]
  },
  {
   "cell_type": "code",
   "execution_count": 40,
   "id": "0c8cee9d",
   "metadata": {},
   "outputs": [
    {
     "name": "stdout",
     "output_type": "stream",
     "text": [
      "('Rubber Soul', 445)\n",
      "('Let It Be', 467)\n"
     ]
    }
   ],
   "source": [
    "## Query 2: Select album_name , SUM(song_lenght) FROM <minimum number of tables> GROUPBY album_name\n",
    "\n",
    "try:\n",
    "    cur.execute(\"SELECT album_library4.album_name, SUM(song_library4.song_lenght) FROM album_library4 JOIN song_library4 \\\n",
    "    ON album_library4.album_id = song_library4.album_id GROUP BY album_library4.album_name;\")\n",
    "except psycopg2.Error as e:\n",
    "    print(\"Error: Issue in Creating table\")\n",
    "    print(e)\n",
    "    \n",
    "row = cur.fetchone()\n",
    "while row:\n",
    "    print(row)\n",
    "    row = cur.fetchone()"
   ]
  },
  {
   "cell_type": "code",
   "execution_count": null,
   "id": "29082c5d",
   "metadata": {},
   "outputs": [],
   "source": []
  }
 ],
 "metadata": {
  "kernelspec": {
   "display_name": "Python 3 (ipykernel)",
   "language": "python",
   "name": "python3"
  },
  "language_info": {
   "codemirror_mode": {
    "name": "ipython",
    "version": 3
   },
   "file_extension": ".py",
   "mimetype": "text/x-python",
   "name": "python",
   "nbconvert_exporter": "python",
   "pygments_lexer": "ipython3",
   "version": "3.9.7"
  }
 },
 "nbformat": 4,
 "nbformat_minor": 5
}
