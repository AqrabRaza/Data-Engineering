{
 "cells": [
  {
   "cell_type": "markdown",
   "id": "ffa877b0",
   "metadata": {},
   "source": [
    "## Lesson 2 Exercise 1 Creating Normalised Table With PostgreSQL"
   ]
  },
  {
   "cell_type": "code",
   "execution_count": 1,
   "id": "2f379c3d",
   "metadata": {},
   "outputs": [],
   "source": [
    "import psycopg2"
   ]
  },
  {
   "cell_type": "code",
   "execution_count": 2,
   "id": "1384eda6",
   "metadata": {},
   "outputs": [],
   "source": [
    "try:\n",
    "    conn = psycopg2.connect(\"host=localhost dbname=udacity_db user=postgres password= 707707\")\n",
    "\n",
    "except psycopg2.Error as e:\n",
    "    print(\"Error: Could not make the connection to PostgreSQl Database\")\n",
    "    print(e)"
   ]
  },
  {
   "cell_type": "code",
   "execution_count": 3,
   "id": "bc2c672a",
   "metadata": {},
   "outputs": [],
   "source": [
    "try:\n",
    "    cur = conn.cursor()\n",
    "except psycopg2.Error as e:\n",
    "    print(\"Error: could not get curser to the Database\")\n",
    "    print(e)"
   ]
  },
  {
   "cell_type": "code",
   "execution_count": 4,
   "id": "829e4881",
   "metadata": {},
   "outputs": [],
   "source": [
    "conn.set_session(autocommit=True)"
   ]
  },
  {
   "cell_type": "code",
   "execution_count": 6,
   "id": "aa3afb3f",
   "metadata": {},
   "outputs": [
    {
     "name": "stdout",
     "output_type": "stream",
     "text": [
      "Error: Select * a Table\n",
      "relation \"music_store\" does not exist\n",
      "LINE 1: Select * from music_store;\n",
      "                      ^\n",
      "\n"
     ]
    }
   ],
   "source": [
    "try:\n",
    "    cur.execute(\"Select * from music_store;\")\n",
    "except psycopg2.Error as e:\n",
    "    print(\"Error: Select * a Table\")\n",
    "    print(e)"
   ]
  },
  {
   "cell_type": "code",
   "execution_count": 7,
   "id": "b0095ce9",
   "metadata": {},
   "outputs": [],
   "source": [
    "try:\n",
    "    cur.execute(\"CREATE TABLE IF NOT EXISTS music_store (transaction_id int, customer_name varchar, cashier_name varchar, year int, albums_purchased text[]);\")\n",
    "except psycopg2.Error as e:\n",
    "    print(\"Error: Issue in Creating a Table\")\n",
    "    print(e)"
   ]
  },
  {
   "cell_type": "code",
   "execution_count": 8,
   "id": "d45782ec",
   "metadata": {},
   "outputs": [],
   "source": [
    "try:\n",
    "    cur.execute(\"select * from music_store\")\n",
    "except psycopg2.Error as e:\n",
    "    print(e)\n",
    "\n",
    "row = cur.fetchone()\n",
    "while row:\n",
    "    print(row)\n",
    "    row = cur.fetchone()"
   ]
  },
  {
   "cell_type": "code",
   "execution_count": 12,
   "id": "308c463e",
   "metadata": {},
   "outputs": [
    {
     "name": "stdout",
     "output_type": "stream",
     "text": [
      "(1, 'Amanda', 'Sam', 2000, ['Rubber Soul', 'Let it Be'])\n",
      "(2, 'Toby', 'Sam', 2000, ['My Generation'])\n",
      "(3, 'Max', 'Bob', 2018, ['Meet the Beatles', 'Help!'])\n"
     ]
    }
   ],
   "source": [
    "try:\n",
    "    cur.execute(\"INSERT INTO music_store (transaction_id, customer_name, cashier_name, year, albums_purchased)\\\n",
    "                VALUES (%s, %s,%s, %s, %s)\",\\\n",
    "                (1, \"Amanda\", \"Sam\", 2000, [\"Rubber Soul\", \"Let it Be\"]))\n",
    "except psycopg2.Error as e:\n",
    "    print(\"Error: Inserting Row\")\n",
    "    print(e)\n",
    "    \n",
    "\n",
    "try:\n",
    "    cur.execute(\"INSERT INTO music_store (transaction_id, customer_name, cashier_name, year, albums_purchased)\\\n",
    "                VALUES (%s, %s, %s, %s, %s)\",\\\n",
    "                (2, \"Toby\", \"Sam\", 2000, [\"My Generation\"]))\n",
    "except psycopg2.Error as e:\n",
    "    print(\"Error: Inserting Row\")\n",
    "    print(e)\n",
    "    \n",
    "    \n",
    "try:\n",
    "    cur.execute(\"INSERT INTO music_store (transaction_id, customer_name, cashier_name, year, albums_purchased)\\\n",
    "                VALUES (%s, %s, %s, %s, %s)\",\\\n",
    "                (3, \"Max\", \"Bob\", 2018, [\"Meet the Beatles\", \"Help!\"]))\n",
    "    \n",
    "except psycopg2.Error as e:\n",
    "    print(\"Error: Inserting Row\")\n",
    "    print(e)\n",
    "    \n",
    "try:\n",
    "    cur.execute(\"select * from music_store;\")\n",
    "except psycopg2.Error as e:\n",
    "    print(\"Error: select *\")\n",
    "    print(e)\n",
    "\n",
    "row = cur.fetchone()\n",
    "while row:\n",
    "    print(row)\n",
    "    row = cur.fetchone()"
   ]
  },
  {
   "cell_type": "code",
   "execution_count": 13,
   "id": "670efa45",
   "metadata": {},
   "outputs": [
    {
     "name": "stdout",
     "output_type": "stream",
     "text": [
      "(1, 'Amanda', 'Sam', 2000, ['Rubber Soul', 'Let it Be'])\n",
      "(2, 'Toby', 'Sam', 2000, ['My Generation'])\n",
      "(3, 'Max', 'Bob', 2018, ['Meet the Beatles', 'Help!'])\n"
     ]
    }
   ],
   "source": [
    "try:\n",
    "    cur.execute(\"select * from music_store\")\n",
    "except psycopg2.Error as e:\n",
    "    print(e)\n",
    "\n",
    "row = cur.fetchone()\n",
    "while row:\n",
    "    print(row)\n",
    "    row = cur.fetchone()"
   ]
  },
  {
   "cell_type": "markdown",
   "id": "c8d4d121",
   "metadata": {},
   "source": [
    "### 2nd Normal Form"
   ]
  },
  {
   "cell_type": "code",
   "execution_count": 14,
   "id": "d33a6aad",
   "metadata": {},
   "outputs": [
    {
     "name": "stdout",
     "output_type": "stream",
     "text": [
      "relation \"transactions\" does not exist\n",
      "LINE 1: select * from transactions\n",
      "                      ^\n",
      "\n"
     ]
    },
    {
     "ename": "ProgrammingError",
     "evalue": "no results to fetch",
     "output_type": "error",
     "traceback": [
      "\u001b[1;31m---------------------------------------------------------------------------\u001b[0m",
      "\u001b[1;31mProgrammingError\u001b[0m                          Traceback (most recent call last)",
      "\u001b[1;32mC:\\Users\\ARQABR~1\\AppData\\Local\\Temp/ipykernel_10860/1812165042.py\u001b[0m in \u001b[0;36m<module>\u001b[1;34m\u001b[0m\n\u001b[0;32m      4\u001b[0m     \u001b[0mprint\u001b[0m\u001b[1;33m(\u001b[0m\u001b[0me\u001b[0m\u001b[1;33m)\u001b[0m\u001b[1;33m\u001b[0m\u001b[1;33m\u001b[0m\u001b[0m\n\u001b[0;32m      5\u001b[0m \u001b[1;33m\u001b[0m\u001b[0m\n\u001b[1;32m----> 6\u001b[1;33m \u001b[0mrow\u001b[0m \u001b[1;33m=\u001b[0m \u001b[0mcur\u001b[0m\u001b[1;33m.\u001b[0m\u001b[0mfetchone\u001b[0m\u001b[1;33m(\u001b[0m\u001b[1;33m)\u001b[0m\u001b[1;33m\u001b[0m\u001b[1;33m\u001b[0m\u001b[0m\n\u001b[0m\u001b[0;32m      7\u001b[0m \u001b[1;32mwhile\u001b[0m \u001b[0mrow\u001b[0m\u001b[1;33m:\u001b[0m\u001b[1;33m\u001b[0m\u001b[1;33m\u001b[0m\u001b[0m\n\u001b[0;32m      8\u001b[0m     \u001b[0mprint\u001b[0m\u001b[1;33m(\u001b[0m\u001b[0mrow\u001b[0m\u001b[1;33m)\u001b[0m\u001b[1;33m\u001b[0m\u001b[1;33m\u001b[0m\u001b[0m\n",
      "\u001b[1;31mProgrammingError\u001b[0m: no results to fetch"
     ]
    }
   ],
   "source": [
    "try:\n",
    "    cur.execute(\"select * from transactions\")\n",
    "except psycopg2.Error as e:\n",
    "    print(e)\n",
    "\n",
    "row = cur.fetchone()\n",
    "while row:\n",
    "    print(row)\n",
    "    row = cur.fetchone()"
   ]
  },
  {
   "cell_type": "code",
   "execution_count": 15,
   "id": "8524dd6c",
   "metadata": {},
   "outputs": [
    {
     "name": "stdout",
     "output_type": "stream",
     "text": [
      "relation \"albums_sold\" does not exist\n",
      "LINE 1: select * from albums_sold\n",
      "                      ^\n",
      "\n"
     ]
    },
    {
     "ename": "ProgrammingError",
     "evalue": "no results to fetch",
     "output_type": "error",
     "traceback": [
      "\u001b[1;31m---------------------------------------------------------------------------\u001b[0m",
      "\u001b[1;31mProgrammingError\u001b[0m                          Traceback (most recent call last)",
      "\u001b[1;32mC:\\Users\\ARQABR~1\\AppData\\Local\\Temp/ipykernel_10860/1896444416.py\u001b[0m in \u001b[0;36m<module>\u001b[1;34m\u001b[0m\n\u001b[0;32m      4\u001b[0m     \u001b[0mprint\u001b[0m\u001b[1;33m(\u001b[0m\u001b[0me\u001b[0m\u001b[1;33m)\u001b[0m\u001b[1;33m\u001b[0m\u001b[1;33m\u001b[0m\u001b[0m\n\u001b[0;32m      5\u001b[0m \u001b[1;33m\u001b[0m\u001b[0m\n\u001b[1;32m----> 6\u001b[1;33m \u001b[0mrow\u001b[0m \u001b[1;33m=\u001b[0m \u001b[0mcur\u001b[0m\u001b[1;33m.\u001b[0m\u001b[0mfetchone\u001b[0m\u001b[1;33m(\u001b[0m\u001b[1;33m)\u001b[0m\u001b[1;33m\u001b[0m\u001b[1;33m\u001b[0m\u001b[0m\n\u001b[0m\u001b[0;32m      7\u001b[0m \u001b[1;32mwhile\u001b[0m \u001b[0mrow\u001b[0m\u001b[1;33m:\u001b[0m\u001b[1;33m\u001b[0m\u001b[1;33m\u001b[0m\u001b[0m\n\u001b[0;32m      8\u001b[0m     \u001b[0mprint\u001b[0m\u001b[1;33m(\u001b[0m\u001b[0mrow\u001b[0m\u001b[1;33m)\u001b[0m\u001b[1;33m\u001b[0m\u001b[1;33m\u001b[0m\u001b[0m\n",
      "\u001b[1;31mProgrammingError\u001b[0m: no results to fetch"
     ]
    }
   ],
   "source": [
    "try:\n",
    "    cur.execute(\"select * from albums_sold\")\n",
    "except psycopg2.Error as e:\n",
    "    print(e)\n",
    "\n",
    "row = cur.fetchone()\n",
    "while row:\n",
    "    print(row)\n",
    "    row = cur.fetchone()"
   ]
  },
  {
   "cell_type": "code",
   "execution_count": 16,
   "id": "1a4019d3",
   "metadata": {},
   "outputs": [],
   "source": [
    "try:\n",
    "    cur.execute(\"CREATE TABLE IF NOT EXISTS transactions (transaction_id int, customer_name varchar, cashier_name varchar, year int);\")\n",
    "except psycopg2.Error as e:\n",
    "    print(\"Error: Issue in Creating a Table\")\n",
    "    print(e)"
   ]
  },
  {
   "cell_type": "code",
   "execution_count": 18,
   "id": "43fd6b00",
   "metadata": {},
   "outputs": [
    {
     "name": "stdout",
     "output_type": "stream",
     "text": [
      "(1, 'Amanda', 'Sam', 2000)\n",
      "(2, 'Toby', 'Sam', 2000)\n",
      "(3, 'Max', 'Bob', 2018)\n"
     ]
    }
   ],
   "source": [
    "try:\n",
    "    cur.execute(\"INSERT INTO transactions (transaction_id, customer_name, cashier_name, year)\\\n",
    "                VALUES (%s, %s,%s, %s)\",\\\n",
    "                (1, \"Amanda\", \"Sam\", 2000))\n",
    "except psycopg2.Error as e:\n",
    "    print(\"Error: Inserting Row\")\n",
    "    print(e)\n",
    "    \n",
    "\n",
    "try:\n",
    "    cur.execute(\"INSERT INTO transactions (transaction_id, customer_name, cashier_name, year)\\\n",
    "                VALUES (%s, %s, %s, %s)\",\\\n",
    "                (2, \"Toby\", \"Sam\", 2000))\n",
    "except psycopg2.Error as e:\n",
    "    print(\"Error: Inserting Row\")\n",
    "    print(e)\n",
    "    \n",
    "    \n",
    "try:\n",
    "    cur.execute(\"INSERT INTO transactions (transaction_id, customer_name, cashier_name, year)\\\n",
    "                VALUES (%s, %s, %s, %s)\",\\\n",
    "                (3, \"Max\", \"Bob\", 2018))\n",
    "    \n",
    "except psycopg2.Error as e:\n",
    "    print(\"Error: Inserting Row\")\n",
    "    print(e)\n",
    "    \n",
    "try:\n",
    "    cur.execute(\"select * from transactions;\")\n",
    "except psycopg2.Error as e:\n",
    "    print(\"Error: select *\")\n",
    "    print(e)\n",
    "\n",
    "row = cur.fetchone()\n",
    "while row:\n",
    "    print(row)\n",
    "    row = cur.fetchone()"
   ]
  },
  {
   "cell_type": "code",
   "execution_count": 26,
   "id": "74a5b185",
   "metadata": {},
   "outputs": [],
   "source": [
    "try:\n",
    "    cur.execute(\"CREATE TABLE IF NOT EXISTS albums_sold (album_id int, transaction_id int, album_name varchar);\")\n",
    "except psycopg2.Error as e:\n",
    "    print(\"Error: Issue in Creating a Table\")\n",
    "    print(e)"
   ]
  },
  {
   "cell_type": "code",
   "execution_count": 27,
   "id": "3e2f76bd",
   "metadata": {},
   "outputs": [
    {
     "name": "stdout",
     "output_type": "stream",
     "text": [
      "(1, 'Amanda', 'Sam', 2000)\n",
      "(2, 'Toby', 'Sam', 2000)\n",
      "(3, 'Max', 'Bob', 2018)\n",
      "(1, 1, 'Rubber Soul')\n",
      "(2, 1, 'Let it Be')\n",
      "(3, 2, 'My Generation')\n",
      "(4, 3, 'Meet the Beatles')\n",
      "(5, 3, 'Help!')\n"
     ]
    }
   ],
   "source": [
    "try:\n",
    "    cur.execute(\"INSERT INTO albums_sold (album_id, transaction_id, album_name)\\\n",
    "                VALUES (%s, %s,%s)\",\\\n",
    "                (1, 1, \"Rubber Soul\"))\n",
    "except psycopg2.Error as e:\n",
    "    print(\"Error: Inserting Row\")\n",
    "    print(e)\n",
    "    \n",
    "\n",
    "try:\n",
    "    cur.execute(\"INSERT INTO albums_sold (album_id, transaction_id, album_name)\\\n",
    "                VALUES (%s, %s, %s)\",\\\n",
    "                (2, 1, \"Let it Be\"))\n",
    "except psycopg2.Error as e:\n",
    "    print(\"Error: Inserting Row\")\n",
    "    print(e)\n",
    "    \n",
    "    \n",
    "try:\n",
    "    cur.execute(\"INSERT INTO albums_sold (album_id, transaction_id, album_name)\\\n",
    "                VALUES (%s, %s, %s)\",\\\n",
    "                (3, 2, \"My Generation\"))\n",
    "    \n",
    "except psycopg2.Error as e:\n",
    "    print(\"Error: Inserting Row\")\n",
    "    print(e)\n",
    "\n",
    "try:\n",
    "    cur.execute(\"INSERT INTO albums_sold (album_id, transaction_id, album_name)\\\n",
    "                VALUES (%s, %s, %s)\",\\\n",
    "                (4, 3, \"Meet the Beatles\"))\n",
    "    \n",
    "except psycopg2.Error as e:\n",
    "    print(\"Error: Inserting Row\")\n",
    "    print(e)\n",
    "\n",
    "try:\n",
    "    cur.execute(\"INSERT INTO albums_sold (album_id, transaction_id, album_name)\\\n",
    "                VALUES (%s, %s, %s)\",\\\n",
    "                (5, 3, \"Help!\"))\n",
    "    \n",
    "except psycopg2.Error as e:\n",
    "    print(\"Error: Inserting Row\")\n",
    "    print(e)\n",
    "    \n",
    "try:\n",
    "    cur.execute(\"select * from transactions;\")\n",
    "except psycopg2.Error as e:\n",
    "    print(\"Error: select *\")\n",
    "    print(e)\n",
    "\n",
    "row = cur.fetchone()\n",
    "while row:\n",
    "    print(row)\n",
    "    row = cur.fetchone()\n",
    "    \n",
    "    \n",
    "try:\n",
    "    cur.execute(\"select * from albums_sold;\")\n",
    "except psycopg2.Error as e:\n",
    "    print(\"Error: select *\")\n",
    "    print(e)\n",
    "\n",
    "row = cur.fetchone()\n",
    "while row:\n",
    "    print(row)\n",
    "    row = cur.fetchone()"
   ]
  },
  {
   "cell_type": "code",
   "execution_count": 30,
   "id": "797bfb55",
   "metadata": {},
   "outputs": [
    {
     "name": "stdout",
     "output_type": "stream",
     "text": [
      "(1, 'Amanda', 'Sam', 2000, 1, 1, 'Rubber Soul')\n",
      "(1, 'Amanda', 'Sam', 2000, 2, 1, 'Let it Be')\n",
      "(2, 'Toby', 'Sam', 2000, 3, 2, 'My Generation')\n",
      "(3, 'Max', 'Bob', 2018, 4, 3, 'Meet the Beatles')\n",
      "(3, 'Max', 'Bob', 2018, 5, 3, 'Help!')\n"
     ]
    }
   ],
   "source": [
    "try:\n",
    "    cur.execute(\"Select * FROM transactions JOIN albums_sold ON transactions.transaction_id = albums_sold.transaction_id;\")\n",
    "except psycopg2.Error as e:\n",
    "    print(\"Error: Issue in Joining a Table\")\n",
    "    print(e)\n",
    "    \n",
    "row = cur.fetchone()\n",
    "while row:\n",
    "    print(row)\n",
    "    row = cur.fetchone()"
   ]
  },
  {
   "cell_type": "markdown",
   "id": "75283731",
   "metadata": {},
   "source": [
    "### 3rd Normal Form"
   ]
  },
  {
   "cell_type": "code",
   "execution_count": 31,
   "id": "8df5b1b7",
   "metadata": {},
   "outputs": [
    {
     "name": "stdout",
     "output_type": "stream",
     "text": [
      "relation \"transactions2\" does not exist\n",
      "LINE 1: select * from transactions2\n",
      "                      ^\n",
      "\n"
     ]
    },
    {
     "ename": "ProgrammingError",
     "evalue": "no results to fetch",
     "output_type": "error",
     "traceback": [
      "\u001b[1;31m---------------------------------------------------------------------------\u001b[0m",
      "\u001b[1;31mProgrammingError\u001b[0m                          Traceback (most recent call last)",
      "\u001b[1;32mC:\\Users\\ARQABR~1\\AppData\\Local\\Temp/ipykernel_10860/1730279320.py\u001b[0m in \u001b[0;36m<module>\u001b[1;34m\u001b[0m\n\u001b[0;32m      4\u001b[0m     \u001b[0mprint\u001b[0m\u001b[1;33m(\u001b[0m\u001b[0me\u001b[0m\u001b[1;33m)\u001b[0m\u001b[1;33m\u001b[0m\u001b[1;33m\u001b[0m\u001b[0m\n\u001b[0;32m      5\u001b[0m \u001b[1;33m\u001b[0m\u001b[0m\n\u001b[1;32m----> 6\u001b[1;33m \u001b[0mrow\u001b[0m \u001b[1;33m=\u001b[0m \u001b[0mcur\u001b[0m\u001b[1;33m.\u001b[0m\u001b[0mfetchone\u001b[0m\u001b[1;33m(\u001b[0m\u001b[1;33m)\u001b[0m\u001b[1;33m\u001b[0m\u001b[1;33m\u001b[0m\u001b[0m\n\u001b[0m\u001b[0;32m      7\u001b[0m \u001b[1;32mwhile\u001b[0m \u001b[0mrow\u001b[0m\u001b[1;33m:\u001b[0m\u001b[1;33m\u001b[0m\u001b[1;33m\u001b[0m\u001b[0m\n\u001b[0;32m      8\u001b[0m     \u001b[0mprint\u001b[0m\u001b[1;33m(\u001b[0m\u001b[0mrow\u001b[0m\u001b[1;33m)\u001b[0m\u001b[1;33m\u001b[0m\u001b[1;33m\u001b[0m\u001b[0m\n",
      "\u001b[1;31mProgrammingError\u001b[0m: no results to fetch"
     ]
    }
   ],
   "source": [
    "try:\n",
    "    cur.execute(\"select * from transactions2\")\n",
    "except psycopg2.Error as e:\n",
    "    print(e)\n",
    "\n",
    "row = cur.fetchone()\n",
    "while row:\n",
    "    print(row)\n",
    "    row = cur.fetchone()"
   ]
  },
  {
   "cell_type": "code",
   "execution_count": 32,
   "id": "66e8e229",
   "metadata": {},
   "outputs": [
    {
     "name": "stdout",
     "output_type": "stream",
     "text": [
      "relation \"employees\" does not exist\n",
      "LINE 1: select * from employees\n",
      "                      ^\n",
      "\n"
     ]
    },
    {
     "ename": "ProgrammingError",
     "evalue": "no results to fetch",
     "output_type": "error",
     "traceback": [
      "\u001b[1;31m---------------------------------------------------------------------------\u001b[0m",
      "\u001b[1;31mProgrammingError\u001b[0m                          Traceback (most recent call last)",
      "\u001b[1;32mC:\\Users\\ARQABR~1\\AppData\\Local\\Temp/ipykernel_10860/2247849698.py\u001b[0m in \u001b[0;36m<module>\u001b[1;34m\u001b[0m\n\u001b[0;32m      4\u001b[0m     \u001b[0mprint\u001b[0m\u001b[1;33m(\u001b[0m\u001b[0me\u001b[0m\u001b[1;33m)\u001b[0m\u001b[1;33m\u001b[0m\u001b[1;33m\u001b[0m\u001b[0m\n\u001b[0;32m      5\u001b[0m \u001b[1;33m\u001b[0m\u001b[0m\n\u001b[1;32m----> 6\u001b[1;33m \u001b[0mrow\u001b[0m \u001b[1;33m=\u001b[0m \u001b[0mcur\u001b[0m\u001b[1;33m.\u001b[0m\u001b[0mfetchone\u001b[0m\u001b[1;33m(\u001b[0m\u001b[1;33m)\u001b[0m\u001b[1;33m\u001b[0m\u001b[1;33m\u001b[0m\u001b[0m\n\u001b[0m\u001b[0;32m      7\u001b[0m \u001b[1;32mwhile\u001b[0m \u001b[0mrow\u001b[0m\u001b[1;33m:\u001b[0m\u001b[1;33m\u001b[0m\u001b[1;33m\u001b[0m\u001b[0m\n\u001b[0;32m      8\u001b[0m     \u001b[0mprint\u001b[0m\u001b[1;33m(\u001b[0m\u001b[0mrow\u001b[0m\u001b[1;33m)\u001b[0m\u001b[1;33m\u001b[0m\u001b[1;33m\u001b[0m\u001b[0m\n",
      "\u001b[1;31mProgrammingError\u001b[0m: no results to fetch"
     ]
    }
   ],
   "source": [
    "try:\n",
    "    cur.execute(\"select * from employees\")\n",
    "except psycopg2.Error as e:\n",
    "    print(e)\n",
    "\n",
    "row = cur.fetchone()\n",
    "while row:\n",
    "    print(row)\n",
    "    row = cur.fetchone()"
   ]
  },
  {
   "cell_type": "code",
   "execution_count": 43,
   "id": "7acd533c",
   "metadata": {},
   "outputs": [],
   "source": [
    "try:\n",
    "    cur.execute(\"CREATE TABLE IF NOT EXISTS transactions2 (transaction_id int, customer_name varchar, year int, employee_id int);\")\n",
    "except psycopg2.Error as e:\n",
    "    print(\"Error: Issue in Creating a Table\")\n",
    "    print(e)"
   ]
  },
  {
   "cell_type": "code",
   "execution_count": 44,
   "id": "92f3ca68",
   "metadata": {},
   "outputs": [
    {
     "name": "stdout",
     "output_type": "stream",
     "text": [
      "(1, 'Amanda', 2000, 1)\n",
      "(2, 'Toby', 2000, 1)\n",
      "(3, 'Max', 2018, 2)\n"
     ]
    }
   ],
   "source": [
    "try:\n",
    "    cur.execute(\"INSERT INTO transactions2 (transaction_id, customer_name, year, employee_id)\\\n",
    "                VALUES (%s, %s, %s, %s)\",\\\n",
    "                (1, \"Amanda\", 2000, 1))\n",
    "except psycopg2.Error as e:\n",
    "    print(\"Error: Inserting Row\")\n",
    "    print(e)\n",
    "    \n",
    "\n",
    "try:\n",
    "    cur.execute(\"INSERT INTO transactions2 (transaction_id, customer_name, year, employee_id)\\\n",
    "                VALUES (%s, %s, %s, %s)\",\\\n",
    "                (2, \"Toby\", 2000, 1))\n",
    "except psycopg2.Error as e:\n",
    "    print(\"Error: Inserting Row\")\n",
    "    print(e)\n",
    "    \n",
    "    \n",
    "try:\n",
    "    cur.execute(\"INSERT INTO transactions2 (transaction_id, customer_name, year, employee_id)\\\n",
    "                VALUES (%s, %s, %s, %s)\",\\\n",
    "                (3, \"Max\", 2018, 2))\n",
    "    \n",
    "except psycopg2.Error as e:\n",
    "    print(\"Error: Inserting Row\")\n",
    "    print(e)\n",
    "    \n",
    "try:\n",
    "    cur.execute(\"select * from transactions2;\")\n",
    "except psycopg2.Error as e:\n",
    "    print(\"Error: select *\")\n",
    "    print(e)\n",
    "\n",
    "row = cur.fetchone()\n",
    "while row:\n",
    "    print(row)\n",
    "    row = cur.fetchone()"
   ]
  },
  {
   "cell_type": "code",
   "execution_count": 45,
   "id": "be5b2d44",
   "metadata": {},
   "outputs": [],
   "source": [
    "try:\n",
    "    cur.execute(\"CREATE TABLE IF NOT EXISTS employees (employee_id int, employee_name varchar);\")\n",
    "except psycopg2.Error as e:\n",
    "    print(\"Error: Issue in Creating a Table\")\n",
    "    print(e)"
   ]
  },
  {
   "cell_type": "code",
   "execution_count": 47,
   "id": "fe2960da",
   "metadata": {},
   "outputs": [
    {
     "name": "stdout",
     "output_type": "stream",
     "text": [
      "(1, 'Sam')\n",
      "(2, 'Bob')\n"
     ]
    }
   ],
   "source": [
    "try:\n",
    "    cur.execute(\"INSERT INTO employees (employee_id, employee_name)\\\n",
    "                VALUES (%s, %s)\",\\\n",
    "                (1, \"Sam\"))\n",
    "except psycopg2.Error as e:\n",
    "    print(\"Error: Inserting Row\")\n",
    "    print(e)\n",
    "    \n",
    "\n",
    "try:\n",
    "    cur.execute(\"INSERT INTO employees (employee_id, employee_name)\\\n",
    "                VALUES (%s, %s)\",\\\n",
    "                (2, \"Bob\"))\n",
    "except psycopg2.Error as e:\n",
    "    print(\"Error: Inserting Row\")\n",
    "    print(e)\n",
    "    \n",
    "    \n",
    "try:\n",
    "    cur.execute(\"select * from employees;\")\n",
    "except psycopg2.Error as e:\n",
    "    print(\"Error: select *\")\n",
    "    print(e)\n",
    "\n",
    "row = cur.fetchone()\n",
    "while row:\n",
    "    print(row)\n",
    "    row = cur.fetchone()"
   ]
  },
  {
   "cell_type": "code",
   "execution_count": 52,
   "id": "0550571f",
   "metadata": {},
   "outputs": [
    {
     "name": "stdout",
     "output_type": "stream",
     "text": [
      "(1, 'Amanda', 2000, 1, 1, 'Sam', 1, 1, 'Rubber Soul')\n",
      "(1, 'Amanda', 2000, 1, 1, 'Sam', 2, 1, 'Let it Be')\n",
      "(2, 'Toby', 2000, 1, 1, 'Sam', 3, 2, 'My Generation')\n",
      "(3, 'Max', 2018, 2, 2, 'Bob', 4, 3, 'Meet the Beatles')\n",
      "(3, 'Max', 2018, 2, 2, 'Bob', 5, 3, 'Help!')\n"
     ]
    }
   ],
   "source": [
    "try:\n",
    "    cur.execute(\"Select * from ( transactions2 JOIN employees ON transactions2.employee_id = employees.employee_id ) JOIN albums_sold ON transactions2.transaction_id = albums_sold.transaction_id;\")\n",
    "except psycopg2.Error as e:\n",
    "    print(\"Error: Issue in Joining a Table\")\n",
    "    print(e)\n",
    "    \n",
    "row = cur.fetchone()\n",
    "while row:\n",
    "    print(row)\n",
    "    row = cur.fetchone()"
   ]
  },
  {
   "cell_type": "code",
   "execution_count": 53,
   "id": "4d9cab8e",
   "metadata": {},
   "outputs": [],
   "source": [
    "cur.close()\n",
    "conn.close()"
   ]
  },
  {
   "cell_type": "code",
   "execution_count": null,
   "id": "4f16b082",
   "metadata": {},
   "outputs": [],
   "source": []
  }
 ],
 "metadata": {
  "kernelspec": {
   "display_name": "Python 3 (ipykernel)",
   "language": "python",
   "name": "python3"
  },
  "language_info": {
   "codemirror_mode": {
    "name": "ipython",
    "version": 3
   },
   "file_extension": ".py",
   "mimetype": "text/x-python",
   "name": "python",
   "nbconvert_exporter": "python",
   "pygments_lexer": "ipython3",
   "version": "3.9.7"
  }
 },
 "nbformat": 4,
 "nbformat_minor": 5
}
