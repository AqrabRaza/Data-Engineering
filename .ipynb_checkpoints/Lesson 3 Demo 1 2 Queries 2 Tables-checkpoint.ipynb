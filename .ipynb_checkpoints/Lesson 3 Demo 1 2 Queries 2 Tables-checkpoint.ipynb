{
 "cells": [
  {
   "cell_type": "code",
   "execution_count": 1,
   "id": "1b6166c1",
   "metadata": {},
   "outputs": [],
   "source": [
    "import cassandra"
   ]
  },
  {
   "cell_type": "markdown",
   "id": "a4892f11",
   "metadata": {},
   "source": [
    "### First let's create a connection to the database"
   ]
  },
  {
   "cell_type": "code",
   "execution_count": 3,
   "id": "f50c3913",
   "metadata": {},
   "outputs": [],
   "source": [
    "from cassandra.cluster import Cluster\n",
    "try:\n",
    "    cluster = Cluster(['127.0.0.1']) #locally installed Apache Cassandra instance\n",
    "    session = cluster.connect()\n",
    "except Exception as e:\n",
    "    print(e)"
   ]
  },
  {
   "cell_type": "markdown",
   "id": "deccac37",
   "metadata": {},
   "source": [
    "### Let's create a keyspace to do our work in"
   ]
  },
  {
   "cell_type": "code",
   "execution_count": 6,
   "id": "e73727eb",
   "metadata": {},
   "outputs": [],
   "source": [
    "try:\n",
    "    session.execute(\"\"\"\n",
    "    CREATE KEYSPACE IF NOT EXISTS udacity \n",
    "    WITH REPLICATION = \n",
    "    { 'class': 'SimpleStrategy', 'replication_factor': 1}\"\"\"\n",
    "    )\n",
    "except Exception as e:\n",
    "    print(e)"
   ]
  },
  {
   "cell_type": "markdown",
   "id": "bca84767",
   "metadata": {},
   "source": [
    "### Connect to our Keyspace"
   ]
  },
  {
   "cell_type": "code",
   "execution_count": 7,
   "id": "c6689538",
   "metadata": {},
   "outputs": [],
   "source": [
    "try:\n",
    "    session.set_keyspace('udacity')\n",
    "except Exception as e:\n",
    "    print(e)"
   ]
  },
  {
   "cell_type": "markdown",
   "id": "e083cc36",
   "metadata": {},
   "source": [
    "### Let's imagine we would like to start creating a Music Library of albums. \n",
    "\n",
    "### We want to ask 2 questions of our data\n",
    "#### 1. Give me every album in my music library that was released in a given year\n",
    "`select * from music_library WHERE YEAR=1970`\n",
    "#### 2. Give me every album in my music library that was created by a given artist  \n",
    "`select * from artist_library WHERE artist_name=\"The Beatles\"`"
   ]
  },
  {
   "cell_type": "markdown",
   "id": "497be314",
   "metadata": {},
   "source": [
    "### Because I want to do two different queries, I am going to do need different tables that partition the data differently. \n",
    "* My music library table will be by year that will become my partition key, and artist name will be my clustering column to make each Primary Key unique. \n",
    "* My album library table will be by artist name that will be my partition key, and year will be my clustering column to make each Primary Key unique. More on Primary keys in the next lesson and demo. \n",
    "\n",
    "`Table Name: music_library\n",
    "column 1: Year\n",
    "column 2: Artist Name\n",
    "column 3: Album Name\n",
    "PRIMARY KEY(year, artist name)`\n",
    "\n",
    "\n",
    "` Table Name: album_library \n",
    "column 1: Artist Name\n",
    "column 2: Year\n",
    "column 3: Album Name\n",
    "PRIMARY KEY (artist name, year)`\n"
   ]
  },
  {
   "cell_type": "markdown",
   "id": "5ca56270",
   "metadata": {},
   "source": [
    "### let's create both table "
   ]
  },
  {
   "cell_type": "code",
   "execution_count": 9,
   "id": "94456412",
   "metadata": {},
   "outputs": [],
   "source": [
    "query = \"CREATE TABLE IF NOT EXISTS music_library\"\n",
    "query = query + \"(year int, artist_name text, album_name text, PRIMARY KEY (year, artist_name))\"\n",
    "try:\n",
    "    session.execute(query)\n",
    "except Exception as e:\n",
    "    print(e)\n",
    "    \n",
    "    \n",
    "query = \"CREATE TABLE IF NOT EXISTS album_library\"\n",
    "query = query + \"(artist_name text, year int, album_name text, PRIMARY KEY (artist_name, year))\"\n",
    "try:\n",
    "    session.execute(query)\n",
    "except Exception as e:\n",
    "    print(e)"
   ]
  },
  {
   "cell_type": "markdown",
   "id": "37b59ff6",
   "metadata": {},
   "source": [
    "### let's insert some data into both tables"
   ]
  },
  {
   "cell_type": "code",
   "execution_count": 11,
   "id": "1c7e7f3f",
   "metadata": {},
   "outputs": [],
   "source": [
    "query = \"INSERT INTO music_library(year, artist_name, album_name)\"\n",
    "query = query + \"VALUES (%s, %s, %s)\"\n",
    "\n",
    "query1 = \"INSERT INTO album_library(artist_name, year, album_name)\"\n",
    "query1 = query1 + \"VALUES (%s, %s, %s)\"\n",
    "\n",
    "\n",
    "try:\n",
    "    session.execute(query, (1970, \"The Beatles\", \"Let it Be\"))\n",
    "except Exception as e:\n",
    "    print(e)\n",
    "    \n",
    "try:\n",
    "    session.execute(query, (1965, \"The Beatles\", \"Rubber Soul\"))\n",
    "except Exception as e:\n",
    "    print(e)\n",
    "    \n",
    "    \n",
    "try:\n",
    "    session.execute(query, (1965, \"The Who\", \"My Generation\"))\n",
    "except Exception as e:\n",
    "    print(e)\n",
    "    \n",
    "\n",
    "try:\n",
    "    session.execute(query, (1966, \"The Monkees\", \"The Monkees\"))\n",
    "except Exception as e:\n",
    "    print(e)\n",
    "\n",
    "try:\n",
    "    session.execute(query, (1970, \"The Carpenters\", \"Close To You\"))\n",
    "except Exception as e:\n",
    "    print(e)\n",
    "    \n",
    "try:\n",
    "    session.execute(query1, (\"The Beatles\", 1970, \"Let it Be\"))\n",
    "except Exception as e:\n",
    "    print(e)\n",
    "    \n",
    "try:\n",
    "    session.execute(query1, (\"The Beatles\", 1965, \"Rubber Soul\"))\n",
    "except Exception as e:\n",
    "    print(e)\n",
    "    \n",
    "try:\n",
    "    session.execute(query1, (\"The Who\", 1965, \"My Generation\"))\n",
    "except Exception as e:\n",
    "    print(e)\n",
    "\n",
    "try:\n",
    "    session.execute(query1, (\"The Monkees\", 1966, \"The Monkees\"))\n",
    "except Exception as e:\n",
    "    print(e)\n",
    "    \n",
    "    \n",
    "try:\n",
    "    session.execute(query1, (\"The Carpenters\", 1970, \"Close To You\"))\n",
    "except Exception as e:\n",
    "    print(e)"
   ]
  },
  {
   "cell_type": "markdown",
   "id": "861c1022",
   "metadata": {},
   "source": [
    "### let's Validate our Data Model"
   ]
  },
  {
   "cell_type": "markdown",
   "id": "ec0f9a5b",
   "metadata": {},
   "source": [
    "`select * from music_library WHERE YEAR=1970`"
   ]
  },
  {
   "cell_type": "code",
   "execution_count": 14,
   "id": "7c752087",
   "metadata": {},
   "outputs": [
    {
     "name": "stdout",
     "output_type": "stream",
     "text": [
      "1970  |  The Beatles  |  Let it Be\n",
      "1970  |  The Carpenters  |  Close To You\n"
     ]
    }
   ],
   "source": [
    "query = 'select * from music_library WHERE YEAR=1970'\n",
    "try:\n",
    "    rows = session.execute(query)\n",
    "except Exception as e:\n",
    "    print(e)\n",
    "    \n",
    "for row in rows:\n",
    "    print (row.year,' | ', row.artist_name,' | ', row.album_name)"
   ]
  },
  {
   "cell_type": "markdown",
   "id": "0e8b9f80",
   "metadata": {},
   "source": [
    "`select * from artist_library WHERE artist_name=\"The Beatles\"`"
   ]
  },
  {
   "cell_type": "code",
   "execution_count": 18,
   "id": "00dd3611",
   "metadata": {},
   "outputs": [
    {
     "name": "stdout",
     "output_type": "stream",
     "text": [
      "The Beatles  |  1965  |  Rubber Soul\n",
      "The Beatles  |  1970  |  Let it Be\n"
     ]
    }
   ],
   "source": [
    "query = \"select * from album_library WHERE artist_name='The Beatles'\"\n",
    "try:\n",
    "    rows = session.execute(query)\n",
    "except Exception as e:\n",
    "    print(e)\n",
    "    \n",
    "for row in rows:\n",
    "    print (row.artist_name,' | ', row.year,' | ', row.album_name)"
   ]
  },
  {
   "cell_type": "markdown",
   "id": "cc83aced",
   "metadata": {},
   "source": [
    "### Drop table "
   ]
  },
  {
   "cell_type": "code",
   "execution_count": 19,
   "id": "fd8c7588",
   "metadata": {},
   "outputs": [],
   "source": [
    "query = \"DROP TABLE album_library\"\n",
    "try:\n",
    "     session.execute(query)\n",
    "except Exception as e:\n",
    "    print(e)\n",
    "    \n",
    "    \n",
    "query1 = \"DROP TABLE music_library\"\n",
    "try:\n",
    "     session.execute(query1)\n",
    "except Exception as e:\n",
    "    print(e)    "
   ]
  },
  {
   "cell_type": "code",
   "execution_count": 20,
   "id": "0628168b",
   "metadata": {},
   "outputs": [],
   "source": [
    "session.shutdown()\n",
    "cluster.shutdown()"
   ]
  },
  {
   "cell_type": "code",
   "execution_count": null,
   "id": "b3b13db8",
   "metadata": {},
   "outputs": [],
   "source": []
  }
 ],
 "metadata": {
  "kernelspec": {
   "display_name": "Python 3 (ipykernel)",
   "language": "python",
   "name": "python3"
  },
  "language_info": {
   "codemirror_mode": {
    "name": "ipython",
    "version": 3
   },
   "file_extension": ".py",
   "mimetype": "text/x-python",
   "name": "python",
   "nbconvert_exporter": "python",
   "pygments_lexer": "ipython3",
   "version": "3.9.7"
  }
 },
 "nbformat": 4,
 "nbformat_minor": 5
}
