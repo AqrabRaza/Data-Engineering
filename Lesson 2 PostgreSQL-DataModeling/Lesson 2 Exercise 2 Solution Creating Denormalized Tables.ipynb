{
 "cells": [
  {
   "cell_type": "markdown",
   "id": "2f704d4d",
   "metadata": {},
   "source": [
    "## Lesson 2 Exercise 2 Solution: Creating Denormalized Tables"
   ]
  },
  {
   "cell_type": "code",
   "execution_count": 1,
   "id": "514187e3",
   "metadata": {},
   "outputs": [],
   "source": [
    "import psycopg2"
   ]
  },
  {
   "cell_type": "code",
   "execution_count": 3,
   "id": "c7073d54",
   "metadata": {},
   "outputs": [],
   "source": [
    "try:\n",
    "    conn = psycopg2.connect(\"host=localhost dbname=udacity_db user=postgres password= 707707\")\n",
    "\n",
    "except psycopg2.Error as e:\n",
    "    print(\"Error: Could not make the connection to PostgreSQl Database\")\n",
    "    print(e)\n",
    "    \n",
    "try:\n",
    "    cur = conn.cursor()\n",
    "except psycopg2.Error as e:\n",
    "    print(\"Error: could not get curser to the Database\")\n",
    "    print(e)\n",
    "    \n",
    "conn.set_session(autocommit=True)"
   ]
  },
  {
   "cell_type": "code",
   "execution_count": 9,
   "id": "9148bfb9",
   "metadata": {},
   "outputs": [
    {
     "name": "stdout",
     "output_type": "stream",
     "text": [
      "Table: transactions2 \n",
      "\n",
      "(1, 'Amanda', 2000, 1)\n",
      "(2, 'Toby', 2000, 1)\n",
      "(3, 'Max', 2018, 2)\n",
      "\n",
      "Table: albums_sold \n",
      "\n",
      "(1, 1, 'Rubber Soul')\n",
      "(2, 1, 'Let it Be')\n",
      "(3, 2, 'My Generation')\n",
      "(4, 3, 'Meet the Beatles')\n",
      "(5, 3, 'Help!')\n",
      "\n",
      " Table: employees \n",
      "\n",
      "(1, 'Sam')\n",
      "(2, 'Bob')\n"
     ]
    }
   ],
   "source": [
    "try:\n",
    "    cur.execute(\"select * from transactions2;\")\n",
    "except psycopg2.Error as e:\n",
    "    print(\"Error: select *\")\n",
    "    print(e)\n",
    "\n",
    "print(\"Table: transactions2 \\n\")\n",
    "row = cur.fetchone()\n",
    "while row:\n",
    "    print(row)\n",
    "    row = cur.fetchone()\n",
    "    \n",
    "\n",
    "try:\n",
    "    cur.execute(\"select * from albums_sold;\")\n",
    "except psycopg2.Error as e:\n",
    "    print(\"Error: select *\")\n",
    "    print(e)\n",
    "    \n",
    "print(\"\\nTable: albums_sold \\n\")\n",
    "row = cur.fetchone()\n",
    "while row:\n",
    "    print(row)\n",
    "    row = cur.fetchone()\n",
    "    \n",
    "try:\n",
    "    cur.execute(\"select * from employees\")\n",
    "except psycopg2.Error as e:\n",
    "    print(e)\n",
    "\n",
    "    \n",
    "print(\"\\n Table: employees \\n\")\n",
    "row = cur.fetchone()\n",
    "while row:\n",
    "    print(row)\n",
    "    row = cur.fetchone()"
   ]
  },
  {
   "cell_type": "code",
   "execution_count": 10,
   "id": "807e9862",
   "metadata": {},
   "outputs": [],
   "source": [
    "try: \n",
    "    cur.execute(\"CREATE TABLE IF NOT EXISTS sales (transaction_id int, amount_spent int);\")\n",
    "except psycopg2.Error as e: \n",
    "    print(\"Error: Issue creating table\")\n",
    "    print (e)"
   ]
  },
  {
   "cell_type": "code",
   "execution_count": 16,
   "id": "aededeef",
   "metadata": {},
   "outputs": [],
   "source": [
    "try: \n",
    "    cur.execute(\"INSERT INTO sales (transaction_id, amount_spent) \\\n",
    "                 VALUES (%s, %s)\", \\\n",
    "                 (1, 40))\n",
    "except psycopg2.Error as e: \n",
    "    print(\"Error: Inserting Rows\")\n",
    "    print (e)\n",
    "\n",
    "try: \n",
    "    cur.execute(\"INSERT INTO sales (transaction_id, amount_spent) \\\n",
    "                 VALUES (%s, %s)\", \\\n",
    "                 (2, 19))\n",
    "except psycopg2.Error as e: \n",
    "    print(\"Error: Inserting Rows\")\n",
    "    print (e) \n",
    "\n",
    "try: \n",
    "    cur.execute(\"INSERT INTO sales (transaction_id, amount_spent) \\\n",
    "                 VALUES (%s, %s)\", \\\n",
    "                 (3, 45))\n",
    "except psycopg2.Error as e: \n",
    "    print(\"Error: Inserting Rows\")\n",
    "    print (e)\n",
    "    "
   ]
  },
  {
   "cell_type": "code",
   "execution_count": 17,
   "id": "a54a8567",
   "metadata": {},
   "outputs": [
    {
     "name": "stdout",
     "output_type": "stream",
     "text": [
      "\n",
      " Table: sales \n",
      "\n",
      "(1, 40)\n",
      "(2, 19)\n",
      "(3, 45)\n"
     ]
    }
   ],
   "source": [
    "try:\n",
    "    cur.execute(\"select * from sales\")\n",
    "except psycopg2.Error as e:\n",
    "    print(e)\n",
    "\n",
    "    \n",
    "print(\"\\n Table: sales \\n\")\n",
    "row = cur.fetchone()\n",
    "while row:\n",
    "    print(row)\n",
    "    row = cur.fetchone()"
   ]
  },
  {
   "cell_type": "code",
   "execution_count": 19,
   "id": "c3e97a6f",
   "metadata": {},
   "outputs": [
    {
     "name": "stdout",
     "output_type": "stream",
     "text": [
      "(1, 'Amanda', 'Sam', 2000, 'Rubber Soul', 40)\n",
      "(1, 'Amanda', 'Sam', 2000, 'Let it Be', 40)\n",
      "(2, 'Toby', 'Sam', 2000, 'My Generation', 19)\n",
      "(3, 'Max', 'Bob', 2018, 'Meet the Beatles', 45)\n",
      "(3, 'Max', 'Bob', 2018, 'Help!', 45)\n"
     ]
    }
   ],
   "source": [
    "try:\n",
    "    cur.execute(\"Select transactions2.transaction_id, customer_name, employees.employee_name, \\\n",
    "                        year, albums_sold.album_name, sales.amount_spent from (( transactions2 JOIN employees ON transactions2.employee_id = employees.employee_id )\\\n",
    "    JOIN albums_sold ON transactions2.transaction_id = albums_sold.transaction_id) JOIN sales ON transactions2.transaction_id = sales.transaction_id;\")\n",
    "except psycopg2.Error as e:\n",
    "    print(\"Error: Issue in Joining a Table\")\n",
    "    print(e)\n",
    "    \n",
    "row = cur.fetchone()\n",
    "while row:\n",
    "    print(row)\n",
    "    row = cur.fetchone()"
   ]
  },
  {
   "cell_type": "code",
   "execution_count": 20,
   "id": "c575676a",
   "metadata": {},
   "outputs": [],
   "source": [
    "## Query 1 : select transaction_id, customer_name, amount_sent FROM <min number of tables>\n",
    "\n",
    "try:\n",
    "    cur.execute(\"CREATE TABLE IF NOT EXISTS transactions3 (transaction_id int, customer_name varchar, year int, employee_id int, amount_spent int);\")\n",
    "except psycopg2.Error as e:\n",
    "    print(\"Error: Issue in Creating a Table\")\n",
    "    print(e)"
   ]
  },
  {
   "cell_type": "code",
   "execution_count": 23,
   "id": "7183ae10",
   "metadata": {},
   "outputs": [
    {
     "name": "stdout",
     "output_type": "stream",
     "text": [
      "(1, 'Amanda', 2000, 1, 40)\n",
      "(2, 'Toby', 2000, 1, 19)\n",
      "(3, 'Max', 2018, 2, 45)\n"
     ]
    }
   ],
   "source": [
    "try:\n",
    "    cur.execute(\"INSERT INTO transactions3 (transaction_id, customer_name, year, employee_id, amount_spent)\\\n",
    "                VALUES (%s, %s, %s, %s, %s)\",\\\n",
    "                (1, \"Amanda\", 2000, 1, 40))\n",
    "except psycopg2.Error as e:\n",
    "    print(\"Error: Inserting Row\")\n",
    "    print(e)\n",
    "    \n",
    "\n",
    "try:\n",
    "    cur.execute(\"INSERT INTO transactions3 (transaction_id, customer_name, year, employee_id, amount_spent)\\\n",
    "                VALUES (%s, %s, %s, %s, %s)\",\\\n",
    "                (2, \"Toby\", 2000, 1, 19))\n",
    "except psycopg2.Error as e:\n",
    "    print(\"Error: Inserting Row\")\n",
    "    print(e)\n",
    "    \n",
    "    \n",
    "try:\n",
    "    cur.execute(\"INSERT INTO transactions3 (transaction_id, customer_name, year, employee_id,amount_spent)\\\n",
    "                VALUES (%s, %s, %s, %s, %s)\",\\\n",
    "                (3, \"Max\", 2018, 2, 45))\n",
    "    \n",
    "except psycopg2.Error as e:\n",
    "    print(\"Error: Inserting Row\")\n",
    "    print(e)\n",
    "    "
   ]
  },
  {
   "cell_type": "code",
   "execution_count": 24,
   "id": "73f57c9f",
   "metadata": {},
   "outputs": [
    {
     "name": "stdout",
     "output_type": "stream",
     "text": [
      "(1, 'Amanda', 40)\n",
      "(2, 'Toby', 19)\n",
      "(3, 'Max', 45)\n"
     ]
    }
   ],
   "source": [
    "try:\n",
    "    cur.execute(\"select transaction_id, customer_name, amount_spent from transactions3;\")\n",
    "except psycopg2.Error as e:\n",
    "    print(\"Error: select *\")\n",
    "    print(e)\n",
    "\n",
    "row = cur.fetchone()\n",
    "while row:\n",
    "    print(row)\n",
    "    row = cur.fetchone()"
   ]
  },
  {
   "cell_type": "code",
   "execution_count": 25,
   "id": "19fc5a91",
   "metadata": {},
   "outputs": [],
   "source": [
    "##Query 2: select cashier_name, SUM(amount_spent) FROM <min number of tables> GROUP BY cashier_name\n",
    "\n",
    "try: \n",
    "    cur.execute(\"CREATE TABLE IF NOT EXISTS cashier_sales (transaction_id int, cashier_name varchar, \\\n",
    "                                                           cashier_id int, amount_spent int);\")\n",
    "except psycopg2.Error as e: \n",
    "    print(\"Error: Issue creating table\")\n",
    "    print (e)"
   ]
  },
  {
   "cell_type": "code",
   "execution_count": 26,
   "id": "319e24cf",
   "metadata": {},
   "outputs": [],
   "source": [
    "try: \n",
    "    cur.execute(\"INSERT INTO cashier_sales (transaction_id, cashier_name, cashier_id, amount_spent) \\\n",
    "                 VALUES (%s, %s, %s, %s)\", \\\n",
    "                 (1, \"Sam\", 1, 40 ))\n",
    "except psycopg2.Error as e: \n",
    "    print(\"Error: Inserting Rows\")\n",
    "    print (e)\n",
    "\n",
    "try: \n",
    "    cur.execute(\"INSERT INTO cashier_sales (transaction_id, cashier_name, cashier_id, amount_spent) \\\n",
    "                 VALUES (%s, %s, %s, %s)\", \\\n",
    "                 (2, \"Sam\", 1, 19 ))\n",
    "except psycopg2.Error as e: \n",
    "    print(\"Error: Inserting Rows\")\n",
    "    print (e)\n",
    "\n",
    "try: \n",
    "    cur.execute(\"INSERT INTO cashier_sales (transaction_id, cashier_name, cashier_id, amount_spent) \\\n",
    "                 VALUES (%s, %s, %s, %s)\", \\\n",
    "                 (3, \"Max\", 2, 45))\n",
    "except psycopg2.Error as e: \n",
    "    print(\"Error: Inserting Rows\")\n",
    "    print (e)"
   ]
  },
  {
   "cell_type": "code",
   "execution_count": 28,
   "id": "1b002874",
   "metadata": {},
   "outputs": [
    {
     "name": "stdout",
     "output_type": "stream",
     "text": [
      "('Max', 45)\n",
      "('Sam', 59)\n"
     ]
    }
   ],
   "source": [
    "try:\n",
    "    cur.execute(\"select cashier_name, SUM(amount_spent) from cashier_sales GROUP BY cashier_name;\")\n",
    "except psycopg2.Error as e:\n",
    "    print(\"Error: select *\")\n",
    "    print(e)\n",
    "\n",
    "row = cur.fetchone()\n",
    "while row:\n",
    "    print(row)\n",
    "    row = cur.fetchone()"
   ]
  },
  {
   "cell_type": "code",
   "execution_count": 29,
   "id": "ed81e50c",
   "metadata": {},
   "outputs": [],
   "source": [
    "cur.close()\n",
    "conn.close()"
   ]
  },
  {
   "cell_type": "code",
   "execution_count": null,
   "id": "27a5f723",
   "metadata": {},
   "outputs": [],
   "source": []
  }
 ],
 "metadata": {
  "kernelspec": {
   "display_name": "Python 3 (ipykernel)",
   "language": "python",
   "name": "python3"
  },
  "language_info": {
   "codemirror_mode": {
    "name": "ipython",
    "version": 3
   },
   "file_extension": ".py",
   "mimetype": "text/x-python",
   "name": "python",
   "nbconvert_exporter": "python",
   "pygments_lexer": "ipython3",
   "version": "3.9.7"
  }
 },
 "nbformat": 4,
 "nbformat_minor": 5
}
