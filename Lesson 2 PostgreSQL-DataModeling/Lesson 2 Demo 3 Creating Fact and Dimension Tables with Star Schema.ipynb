{
 "cells": [
  {
   "cell_type": "code",
   "execution_count": 1,
   "id": "3c75dfa6",
   "metadata": {},
   "outputs": [],
   "source": [
    "import psycopg2"
   ]
  },
  {
   "cell_type": "code",
   "execution_count": 2,
   "id": "cd85ad88",
   "metadata": {},
   "outputs": [],
   "source": [
    "try:\n",
    "    conn = psycopg2.connect(\"host=localhost dbname=udacity_db user=postgres password= 707707\")\n",
    "\n",
    "except psycopg2.Error as e:\n",
    "    print(\"Error: Could not make the connection to PostgreSQl Database\")\n",
    "    print(e)\n",
    "    \n",
    "try:\n",
    "    cur = conn.cursor()\n",
    "except psycopg2.Error as e:\n",
    "    print(\"Error: could not get curser to the Database\")\n",
    "    print(e)\n",
    "    \n",
    "conn.set_session(autocommit=True)"
   ]
  },
  {
   "cell_type": "code",
   "execution_count": 5,
   "id": "951fcb8f",
   "metadata": {},
   "outputs": [
    {
     "name": "stdout",
     "output_type": "stream",
     "text": [
      "('Toby', 1, 'CA', 'Let It Be', 'N')\n"
     ]
    }
   ],
   "source": [
    "## Query 1: Find all customer spend more then 30 dollers,who are they, what did they buy and if they are a rewarded member \n",
    "\n",
    "try: \n",
    "    cur.execute(\"Select name, store.store_id, store.state, item_name, customer.rewards from (((customer_transactions JOIN customer ON customer_transactions.customer_id = customer.customer_id) \\\n",
    "    JOIN item_purchased ON customer_transactions.customer_id = item_purchased.customer_id) JOIN store ON customer_transactions.store_id = store.store_id )where spent > 30;\")\n",
    "except psycopg2.Error as e: \n",
    "    print(\"Error: Issue in Select * table\")\n",
    "    print (e)\n",
    "    \n",
    "    \n",
    "row = cur.fetchone()\n",
    "while row:\n",
    "    print(row)\n",
    "    row = cur.fetchone()"
   ]
  },
  {
   "cell_type": "code",
   "execution_count": 8,
   "id": "f7bea3fa",
   "metadata": {},
   "outputs": [
    {
     "name": "stdout",
     "output_type": "stream",
     "text": [
      "(2, Decimal('35.21'))\n"
     ]
    }
   ],
   "source": [
    "## Query 2: How much did Customer 2 spend?\n",
    "\n",
    "try: \n",
    "    cur.execute(\"Select customer_id, SUM(spent) from customer_transactions where customer_id = 2 GROUP BY customer_id \")\n",
    "except psycopg2.Error as e: \n",
    "    print(\"Error: Issue in Select * table\")\n",
    "    print (e)\n",
    "    \n",
    "    \n",
    "row = cur.fetchone()\n",
    "while row:\n",
    "    print(row)\n",
    "    row = cur.fetchone()"
   ]
  },
  {
   "cell_type": "code",
   "execution_count": 9,
   "id": "565b6147",
   "metadata": {},
   "outputs": [],
   "source": [
    "\n",
    "cur.close()\n",
    "conn.close()"
   ]
  },
  {
   "cell_type": "code",
   "execution_count": null,
   "id": "8397e1b8",
   "metadata": {},
   "outputs": [],
   "source": []
  }
 ],
 "metadata": {
  "kernelspec": {
   "display_name": "Python 3 (ipykernel)",
   "language": "python",
   "name": "python3"
  },
  "language_info": {
   "codemirror_mode": {
    "name": "ipython",
    "version": 3
   },
   "file_extension": ".py",
   "mimetype": "text/x-python",
   "name": "python",
   "nbconvert_exporter": "python",
   "pygments_lexer": "ipython3",
   "version": "3.9.7"
  }
 },
 "nbformat": 4,
 "nbformat_minor": 5
}
