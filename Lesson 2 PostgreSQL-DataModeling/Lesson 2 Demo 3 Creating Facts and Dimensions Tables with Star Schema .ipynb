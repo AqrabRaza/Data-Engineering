{
 "cells": [
  {
   "cell_type": "code",
   "execution_count": 1,
   "id": "968a2a47",
   "metadata": {},
   "outputs": [],
   "source": [
    "import psycopg2"
   ]
  },
  {
   "cell_type": "code",
   "execution_count": 2,
   "id": "977f0768",
   "metadata": {},
   "outputs": [],
   "source": [
    "try:\n",
    "    conn = psycopg2.connect(\"host=localhost dbname=udacity_db user=postgres password= 707707\")\n",
    "\n",
    "except psycopg2.Error as e:\n",
    "    print(\"Error: Could not make the connection to PostgreSQl Database\")\n",
    "    print(e)\n",
    "    \n",
    "try:\n",
    "    cur = conn.cursor()\n",
    "except psycopg2.Error as e:\n",
    "    print(\"Error: could not get curser to the Database\")\n",
    "    print(e)\n",
    "    \n",
    "conn.set_session(autocommit=True)"
   ]
  },
  {
   "cell_type": "code",
   "execution_count": 13,
   "id": "4838e537",
   "metadata": {},
   "outputs": [],
   "source": [
    "try: \n",
    "    cur.execute(\"CREATE TABLE IF NOT EXISTS customer_transactions (customer_id int, store_id int, spent numeric);\")\n",
    "except psycopg2.Error as e: \n",
    "    print(\"Error: Issue creating table\")\n",
    "    print (e)\n",
    "    "
   ]
  },
  {
   "cell_type": "code",
   "execution_count": 4,
   "id": "aa115cea",
   "metadata": {},
   "outputs": [],
   "source": [
    "try: \n",
    "    cur.execute(\"CREATE TABLE IF NOT EXISTS customer (customer_id int, name varchar , rewards varchar);\")\n",
    "except psycopg2.Error as e: \n",
    "    print(\"Error: Issue creating table\")\n",
    "    print (e)"
   ]
  },
  {
   "cell_type": "code",
   "execution_count": 5,
   "id": "4bef5b58",
   "metadata": {},
   "outputs": [],
   "source": [
    "try:\n",
    "    cur.execute(\"CREATE TABLE IF NOT EXISTS store (store_id int, state varchar);\")\n",
    "except psycopg2.Error as e: \n",
    "    print(\"Error: Issue creating table\")\n",
    "    print (e)"
   ]
  },
  {
   "cell_type": "code",
   "execution_count": 21,
   "id": "1942c09c",
   "metadata": {},
   "outputs": [],
   "source": [
    "try:\n",
    "    cur.execute(\"CREATE TABLE IF NOT EXISTS item_purchased (customer_id int, item_number int, item_name varchar);\")\n",
    "except psycopg2.Error as e: \n",
    "    print(\"Error: Issue creating table\")\n",
    "    print (e)"
   ]
  },
  {
   "cell_type": "code",
   "execution_count": 14,
   "id": "a2ec06e1",
   "metadata": {},
   "outputs": [],
   "source": [
    "try: \n",
    "    cur.execute(\"INSERT INTO customer_transactions (customer_id, store_id, spent) \\\n",
    "                 VALUES (%s, %s, %s)\", \\\n",
    "                 (1, 1, 20.50))\n",
    "except psycopg2.Error as e: \n",
    "    print(\"Error: Inserting Rows\")\n",
    "    print (e)\n",
    "\n",
    "try: \n",
    "    cur.execute(\"INSERT INTO customer_transactions (customer_id, store_id, spent) \\\n",
    "                 VALUES (%s, %s, %s)\", \\\n",
    "                 (2, 1, 35.21))\n",
    "except psycopg2.Error as e: \n",
    "    print(\"Error: Inserting Rows\")\n",
    "    print (e)"
   ]
  },
  {
   "cell_type": "code",
   "execution_count": 15,
   "id": "9b681f6d",
   "metadata": {},
   "outputs": [
    {
     "name": "stdout",
     "output_type": "stream",
     "text": [
      "\n",
      " Table: Customer Transactions \n",
      "\n",
      "(1, 1, Decimal('20.5'))\n",
      "(2, 1, Decimal('35.21'))\n"
     ]
    }
   ],
   "source": [
    "try: \n",
    "    cur.execute(\"Select * from customer_transactions;\")\n",
    "except psycopg2.Error as e: \n",
    "    print(\"Error: Issue in Select * table\")\n",
    "    print (e)\n",
    "    \n",
    "print(\"\\n Table: Customer Transactions \\n\")\n",
    "row = cur.fetchone()\n",
    "while row:\n",
    "    print(row)\n",
    "    row = cur.fetchone()"
   ]
  },
  {
   "cell_type": "code",
   "execution_count": 16,
   "id": "153667ca",
   "metadata": {},
   "outputs": [],
   "source": [
    "try: \n",
    "    cur.execute(\"INSERT INTO customer (customer_id, name, rewards) \\\n",
    "                 VALUES (%s, %s, %s)\", \\\n",
    "                 (1, \"Amanda\", \"Y\"))\n",
    "except psycopg2.Error as e: \n",
    "    print(\"Error: Inserting Rows\")\n",
    "    print (e)\n",
    "\n",
    "try: \n",
    "    cur.execute(\"INSERT INTO customer (customer_id, name, rewards) \\\n",
    "                 VALUES (%s, %s, %s)\", \\\n",
    "                 (2, \"Toby\", \"N\"))\n",
    "except psycopg2.Error as e: \n",
    "    print(\"Error: Inserting Rows\")\n",
    "    print (e)"
   ]
  },
  {
   "cell_type": "code",
   "execution_count": 17,
   "id": "eff9ffcd",
   "metadata": {},
   "outputs": [
    {
     "name": "stdout",
     "output_type": "stream",
     "text": [
      "\n",
      " Table: Customer\n",
      "\n",
      "(1, 'Amanda', 'Y')\n",
      "(2, 'Toby', 'N')\n"
     ]
    }
   ],
   "source": [
    "try: \n",
    "    cur.execute(\"Select * from customer;\")\n",
    "except psycopg2.Error as e: \n",
    "    print(\"Error: Issue in Select * table\")\n",
    "    print (e)\n",
    "    \n",
    "print(\"\\n Table: Customer\\n\")\n",
    "row = cur.fetchone()\n",
    "while row:\n",
    "    print(row)\n",
    "    row = cur.fetchone()"
   ]
  },
  {
   "cell_type": "code",
   "execution_count": 18,
   "id": "4253d5a2",
   "metadata": {},
   "outputs": [],
   "source": [
    "\n",
    "try: \n",
    "    cur.execute(\"INSERT INTO store (store_id, state) \\\n",
    "                 VALUES (%s, %s)\", \\\n",
    "                 (1, \"CA\"))\n",
    "except psycopg2.Error as e: \n",
    "    print(\"Error: Inserting Rows\")\n",
    "    print (e)\n",
    "\n",
    "try: \n",
    "    cur.execute(\"INSERT INTO store (store_id, state) \\\n",
    "                 VALUES (%s, %s)\", \\\n",
    "                 (2, \"WA\"))\n",
    "except psycopg2.Error as e: \n",
    "    print(\"Error: Inserting Rows\")\n",
    "    print (e)"
   ]
  },
  {
   "cell_type": "code",
   "execution_count": 19,
   "id": "ebc6b7fa",
   "metadata": {},
   "outputs": [
    {
     "name": "stdout",
     "output_type": "stream",
     "text": [
      "\n",
      " Table: Store\n",
      "\n",
      "(1, 'CA')\n",
      "(2, 'WA')\n"
     ]
    }
   ],
   "source": [
    "try: \n",
    "    cur.execute(\"Select * from store;\")\n",
    "except psycopg2.Error as e: \n",
    "    print(\"Error: Issue in Select * table\")\n",
    "    print (e)\n",
    "    \n",
    "print(\"\\n Table: Store\\n\")\n",
    "row = cur.fetchone()\n",
    "while row:\n",
    "    print(row)\n",
    "    row = cur.fetchone()"
   ]
  },
  {
   "cell_type": "code",
   "execution_count": 22,
   "id": "abc08300",
   "metadata": {},
   "outputs": [],
   "source": [
    "\n",
    "try: \n",
    "    cur.execute(\"INSERT INTO item_purchased (customer_id, item_number, item_name) \\\n",
    "                 VALUES (%s, %s, %s)\", \\\n",
    "                 (1, 1, \"Rubber Soul\"))\n",
    "except psycopg2.Error as e: \n",
    "    print(\"Error: Inserting Rows\")\n",
    "    print (e)\n",
    "\n",
    "\n",
    "try: \n",
    "    cur.execute(\"INSERT INTO item_purchased (customer_id, item_number, item_name) \\\n",
    "                 VALUES (%s, %s, %s)\", \\\n",
    "                 (2, 3, \"Let It Be\"))\n",
    "except psycopg2.Error as e: \n",
    "    print(\"Error: Inserting Rows\")\n",
    "    print (e)"
   ]
  },
  {
   "cell_type": "code",
   "execution_count": 23,
   "id": "ab0c6bf4",
   "metadata": {},
   "outputs": [
    {
     "name": "stdout",
     "output_type": "stream",
     "text": [
      "\n",
      " Table: Item Purchased\n",
      "\n",
      "(1, 1, 'Rubber Soul')\n",
      "(2, 3, 'Let It Be')\n"
     ]
    }
   ],
   "source": [
    "try: \n",
    "    cur.execute(\"Select * from item_purchased;\")\n",
    "except psycopg2.Error as e: \n",
    "    print(\"Error: Issue in Select * table\")\n",
    "    print (e)\n",
    "    \n",
    "print(\"\\n Table: Item Purchased\\n\")\n",
    "row = cur.fetchone()\n",
    "while row:\n",
    "    print(row)\n",
    "    row = cur.fetchone()"
   ]
  },
  {
   "cell_type": "code",
   "execution_count": 27,
   "id": "9e99409b",
   "metadata": {},
   "outputs": [
    {
     "name": "stdout",
     "output_type": "stream",
     "text": [
      "('Toby', 'Let It Be', 'N')\n"
     ]
    }
   ],
   "source": [
    "## Query 1: Find all customer spend more then 30 dollers,who are they, what did they buy and if they are a rewarded member \n",
    "\n",
    "try: \n",
    "    cur.execute(\"Select name, item_name, rewards from ((customer_transactions JOIN customer ON customer_transactions.customer_id = customer.customer_id) \\\n",
    "    JOIN item_purchased ON customer_transactions.customer_id = item_purchased.customer_id) where spent > 30;\")\n",
    "except psycopg2.Error as e: \n",
    "    print(\"Error: Issue in Select * table\")\n",
    "    print (e)\n",
    "    \n",
    "    \n",
    "row = cur.fetchone()\n",
    "while row:\n",
    "    print(row)\n",
    "    row = cur.fetchone()"
   ]
  },
  {
   "cell_type": "code",
   "execution_count": 28,
   "id": "7895d02d",
   "metadata": {},
   "outputs": [
    {
     "name": "stdout",
     "output_type": "stream",
     "text": [
      "(1, Decimal('55.71'))\n"
     ]
    }
   ],
   "source": [
    "## Query 2: How much did Store 1 sell\n",
    "\n",
    "try: \n",
    "    cur.execute(\"Select store_id, SUM(spent) from customer_transactions GROUP BY store_id \")\n",
    "except psycopg2.Error as e: \n",
    "    print(\"Error: Issue in Select * table\")\n",
    "    print (e)\n",
    "    \n",
    "    \n",
    "row = cur.fetchone()\n",
    "while row:\n",
    "    print(row)\n",
    "    row = cur.fetchone()"
   ]
  },
  {
   "cell_type": "code",
   "execution_count": 30,
   "id": "2cbe787a",
   "metadata": {},
   "outputs": [],
   "source": [
    "cur.close()\n",
    "conn.close()"
   ]
  },
  {
   "cell_type": "code",
   "execution_count": null,
   "id": "f9f59178",
   "metadata": {},
   "outputs": [],
   "source": []
  }
 ],
 "metadata": {
  "kernelspec": {
   "display_name": "Python 3 (ipykernel)",
   "language": "python",
   "name": "python3"
  },
  "language_info": {
   "codemirror_mode": {
    "name": "ipython",
    "version": 3
   },
   "file_extension": ".py",
   "mimetype": "text/x-python",
   "name": "python",
   "nbconvert_exporter": "python",
   "pygments_lexer": "ipython3",
   "version": "3.9.7"
  }
 },
 "nbformat": 4,
 "nbformat_minor": 5
}
