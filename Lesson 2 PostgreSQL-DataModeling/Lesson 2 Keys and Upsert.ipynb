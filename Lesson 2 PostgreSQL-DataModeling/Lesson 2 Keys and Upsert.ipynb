{
 "cells": [
  {
   "cell_type": "code",
   "execution_count": 1,
   "id": "a6453c28",
   "metadata": {},
   "outputs": [],
   "source": [
    "import psycopg2"
   ]
  },
  {
   "cell_type": "code",
   "execution_count": 2,
   "id": "99035d6f",
   "metadata": {},
   "outputs": [],
   "source": [
    "try:\n",
    "    conn = psycopg2.connect(\"host=localhost dbname=udacity_db user=postgres password= 707707\")\n",
    "\n",
    "except psycopg2.Error as e:\n",
    "    print(\"Error: Could not make the connection to PostgreSQl Database\")\n",
    "    print(e)\n",
    "    \n",
    "try:\n",
    "    cur = conn.cursor()\n",
    "except psycopg2.Error as e:\n",
    "    print(\"Error: could not get curser to the Database\")\n",
    "    print(e)\n",
    "    \n",
    "conn.set_session(autocommit=True)"
   ]
  },
  {
   "cell_type": "code",
   "execution_count": 10,
   "id": "39df6375",
   "metadata": {},
   "outputs": [],
   "source": [
    "\n",
    "try:\n",
    "    cur.execute(\"CREATE TABLE IF NOT EXISTS customer_address (\\\n",
    "    customer_id int PRIMARY KEY,\\\n",
    "    customer_street varchar NOT NULL,\\\n",
    "    customer_city text NOT NULL,\\\n",
    "    customer_state text NOT NULL\\\n",
    ");\")\n",
    "except psycopg2.Error as e:\n",
    "    print(\"Error: Issue in Creating a Table\")\n",
    "    print(e)\n"
   ]
  },
  {
   "cell_type": "code",
   "execution_count": 12,
   "id": "da39cb22",
   "metadata": {},
   "outputs": [],
   "source": [
    "\n",
    "try:\n",
    "    cur.execute(\"INSERT into customer_address (customer_id, customer_street, customer_city, customer_state)\\\n",
    "                 VALUES (%s, %s, %s, %s)\",\\\n",
    "                 (432, '758 Main Street', 'Chicago', 'IL'))\n",
    "except psycopg2.Error as e:\n",
    "    print(\"Error: Issue in Creating a Table\")\n",
    "    print(e)\n",
    "    \n"
   ]
  },
  {
   "cell_type": "code",
   "execution_count": 17,
   "id": "90524904",
   "metadata": {},
   "outputs": [
    {
     "name": "stdout",
     "output_type": "stream",
     "text": [
      "(432, '758 Main Street', 'Chicago', 'IL')\n"
     ]
    }
   ],
   "source": [
    "\n",
    "try:\n",
    "    cur.execute(\"Select * from customer_address\")\n",
    "except psycopg2.Error as e:\n",
    "    print(\"Error: Issue in Creating a Table\")\n",
    "    print(e)\n",
    "    \n",
    "row = cur.fetchone()\n",
    "while row:\n",
    "    print(row)\n",
    "    row = cur.fetchone()\n",
    "    "
   ]
  },
  {
   "cell_type": "code",
   "execution_count": 31,
   "id": "2abc7143",
   "metadata": {},
   "outputs": [
    {
     "ename": "AttributeError",
     "evalue": "'psycopg2.extensions.cursor' object has no attribute 'excecute'",
     "output_type": "error",
     "traceback": [
      "\u001b[1;31m---------------------------------------------------------------------------\u001b[0m",
      "\u001b[1;31mAttributeError\u001b[0m                            Traceback (most recent call last)",
      "\u001b[1;32mC:\\Users\\ARQABR~1\\AppData\\Local\\Temp/ipykernel_15464/1012478902.py\u001b[0m in \u001b[0;36m<module>\u001b[1;34m\u001b[0m\n\u001b[0;32m      1\u001b[0m \u001b[1;32mtry\u001b[0m\u001b[1;33m:\u001b[0m\u001b[1;33m\u001b[0m\u001b[1;33m\u001b[0m\u001b[0m\n\u001b[1;32m----> 2\u001b[1;33m     cur.excecute(\"INSERT into customer_address (customer_id, customer_street, customer_city, customer_state)\\\n\u001b[0m\u001b[0;32m      3\u001b[0m                  \u001b[0mVALUES\u001b[0m \u001b[1;33m(\u001b[0m\u001b[1;33m%\u001b[0m\u001b[0ms\u001b[0m\u001b[1;33m,\u001b[0m \u001b[1;33m%\u001b[0m\u001b[0ms\u001b[0m\u001b[1;33m,\u001b[0m \u001b[1;33m%\u001b[0m\u001b[0ms\u001b[0m\u001b[1;33m,\u001b[0m \u001b[1;33m%\u001b[0m\u001b[0ms\u001b[0m\u001b[1;33m)\u001b[0m \u001b[1;33m(\u001b[0m\u001b[1;36m432\u001b[0m\u001b[1;33m,\u001b[0m \u001b[1;34m'923 Knox Street'\u001b[0m\u001b[1;33m,\u001b[0m \u001b[1;34m'Albany'\u001b[0m\u001b[1;33m,\u001b[0m \u001b[1;34m'NY'\u001b[0m\u001b[1;33m)\u001b[0m\u001b[0;31m\\\u001b[0m\u001b[1;33m\u001b[0m\u001b[1;33m\u001b[0m\u001b[0m\n\u001b[0;32m      4\u001b[0m                  \u001b[0mON\u001b[0m \u001b[0mCONFLICT\u001b[0m \u001b[1;33m(\u001b[0m\u001b[0mcustomer_id\u001b[0m\u001b[1;33m)\u001b[0m\u001b[0;31m\\\u001b[0m\u001b[1;33m\u001b[0m\u001b[1;33m\u001b[0m\u001b[0m\n\u001b[0;32m      5\u001b[0m                  DO NOTHING; \")\n",
      "\u001b[1;31mAttributeError\u001b[0m: 'psycopg2.extensions.cursor' object has no attribute 'excecute'"
     ]
    }
   ],
   "source": [
    "\n",
    "try:\n",
    "    cur.excecute(\"INSERT into customer_address (customer_id, customer_street, customer_city, customer_state)\\\n",
    "                 VALUES (%s, %s, %s, %s) (432, '923 Knox Street', 'Albany', 'NY')\\\n",
    "                 ON CONFLICT (customer_id)\\\n",
    "                 DO NOTHING; \")\n",
    "except psycopg2.Error as e:\n",
    "    print(\"Error: Issue in Creating a Table\")\n",
    "    print(e)\n",
    "    "
   ]
  },
  {
   "cell_type": "code",
   "execution_count": null,
   "id": "2eae2c2e",
   "metadata": {},
   "outputs": [],
   "source": []
  }
 ],
 "metadata": {
  "kernelspec": {
   "display_name": "Python 3 (ipykernel)",
   "language": "python",
   "name": "python3"
  },
  "language_info": {
   "codemirror_mode": {
    "name": "ipython",
    "version": 3
   },
   "file_extension": ".py",
   "mimetype": "text/x-python",
   "name": "python",
   "nbconvert_exporter": "python",
   "pygments_lexer": "ipython3",
   "version": "3.9.7"
  }
 },
 "nbformat": 4,
 "nbformat_minor": 5
}
