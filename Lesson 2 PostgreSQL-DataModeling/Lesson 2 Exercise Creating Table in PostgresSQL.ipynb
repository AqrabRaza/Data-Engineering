{
 "cells": [
  {
   "cell_type": "markdown",
   "id": "affc0c95",
   "metadata": {},
   "source": [
    "# Create Songs Table in PostgresSQl"
   ]
  },
  {
   "cell_type": "code",
   "execution_count": 1,
   "id": "f2899ca7",
   "metadata": {},
   "outputs": [],
   "source": [
    "import psycopg2"
   ]
  },
  {
   "cell_type": "code",
   "execution_count": 3,
   "id": "01f3a296",
   "metadata": {},
   "outputs": [],
   "source": [
    "try:\n",
    "    conn = psycopg2.connect(\"host=localhost dbname=udacity_db user=postgres password= 707707\")\n",
    "except psycopg2.Error as e:\n",
    "    print(\"Error: Could not make connection to PostgreSQL database\")\n",
    "    print(e)"
   ]
  },
  {
   "cell_type": "code",
   "execution_count": 4,
   "id": "cf0bc588",
   "metadata": {},
   "outputs": [],
   "source": [
    "try:\n",
    "    cur = conn.cursor()\n",
    "except psycopg2.Error as e:\n",
    "    print(\"Error: Could not get curser to the Database\")\n",
    "    print(e)"
   ]
  },
  {
   "cell_type": "code",
   "execution_count": 5,
   "id": "755e0d87",
   "metadata": {},
   "outputs": [],
   "source": [
    "conn.set_session(autocommit=True)"
   ]
  },
  {
   "cell_type": "code",
   "execution_count": 6,
   "id": "6b48b2d9",
   "metadata": {},
   "outputs": [
    {
     "name": "stdout",
     "output_type": "stream",
     "text": [
      "relation \"udacity_db.songs_library\" does not exist\n",
      "LINE 1: select * from udacity_db.songs_library\n",
      "                      ^\n",
      "\n"
     ]
    }
   ],
   "source": [
    "try:\n",
    "    cur.execute(\"select * from udacity_db.songs_library\")\n",
    "except psycopg2.Error as e:\n",
    "    print(e)"
   ]
  },
  {
   "cell_type": "code",
   "execution_count": 7,
   "id": "dd4023ca",
   "metadata": {},
   "outputs": [
    {
     "name": "stdout",
     "output_type": "stream",
     "text": [
      "database \"udacity_db\" already exists\n",
      "\n"
     ]
    }
   ],
   "source": [
    "try:\n",
    "    cur.execute(\"create database udacity_db\")\n",
    "except psycopg2.Error as e:\n",
    "    print(e)"
   ]
  },
  {
   "cell_type": "code",
   "execution_count": 8,
   "id": "851ecfad",
   "metadata": {},
   "outputs": [],
   "source": [
    "try:\n",
    "    cur.execute(\"CREATE TABLE IF NOT EXISTS songs_library (song_title varchar, artist varchar, year int, album varchar, single Boolean);\")\n",
    "except psycopg2.Error as e:\n",
    "    print(\"Error: Issue Creating table\")\n",
    "    print(e)    "
   ]
  },
  {
   "cell_type": "code",
   "execution_count": 10,
   "id": "0499642a",
   "metadata": {},
   "outputs": [
    {
     "name": "stdout",
     "output_type": "stream",
     "text": [
      "[(0,)]\n"
     ]
    }
   ],
   "source": [
    "try:\n",
    "    cur.execute(\"select count(*) from songs_library\")\n",
    "except psycopg2.Error as e:\n",
    "    print(\"Error: Issue fetching data from table\")\n",
    "    print(e)\n",
    "\n",
    "print(cur.fetchall())"
   ]
  },
  {
   "cell_type": "code",
   "execution_count": 14,
   "id": "d23d7f8d",
   "metadata": {},
   "outputs": [],
   "source": [
    "try:\n",
    "    cur.execute(\"INSERT INTO songs_library (song_title, artist, year, album, single) \\\n",
    "                 VALUES (%s, %s, %s, %s, %s)\", \\\n",
    "                 (\"Across The Universe\", \"The Beatles\", 1970, \"Let It be\", False))\n",
    "except psycopg2.Error as e:\n",
    "    print(\"Error: Inserting Rows\")\n",
    "    print(e)\n",
    "    \n",
    "\n",
    "try:\n",
    "    cur.execute(\"INSERT INTO songs_library (song_title, artist, year, album, single) \\\n",
    "                 VALUES (%s, %s, %s, %s, %s)\", \\\n",
    "                 (\"Think For Youself\", \"The Beatles\", 1965, \"Rubber Soul\", False))\n",
    "except psycopg2.Error as e:\n",
    "    print(\"Error: Inserting Rows\")\n",
    "    print(e)"
   ]
  },
  {
   "cell_type": "code",
   "execution_count": 15,
   "id": "29237d3a",
   "metadata": {},
   "outputs": [
    {
     "name": "stdout",
     "output_type": "stream",
     "text": [
      "[(2,)]\n"
     ]
    }
   ],
   "source": [
    "try:\n",
    "    cur.execute(\"select count(*) from songs_library\")\n",
    "except psycopg2.Error as e:\n",
    "    print(\"Error: Issue fetching data from table\")\n",
    "    print(e)\n",
    "\n",
    "print(cur.fetchall())"
   ]
  },
  {
   "cell_type": "code",
   "execution_count": 16,
   "id": "8509922a",
   "metadata": {},
   "outputs": [
    {
     "name": "stdout",
     "output_type": "stream",
     "text": [
      "[('Across The Universe', 'The Beatles', 1970, 'Let It be', False), ('Think For Youself', 'The Beatles', 1965, 'Rubber Soul', False)]\n"
     ]
    }
   ],
   "source": [
    "try:\n",
    "    cur.execute(\"select * from songs_library\")\n",
    "except psycopg2.Error as e:\n",
    "    print(\"Error: Issue fetching data from table\")\n",
    "    print(e)\n",
    "\n",
    "print(cur.fetchall())"
   ]
  },
  {
   "cell_type": "code",
   "execution_count": 17,
   "id": "619dcc1f",
   "metadata": {},
   "outputs": [],
   "source": [
    "cur.close()"
   ]
  },
  {
   "cell_type": "code",
   "execution_count": 18,
   "id": "7a544601",
   "metadata": {},
   "outputs": [],
   "source": [
    "conn.close()"
   ]
  },
  {
   "cell_type": "code",
   "execution_count": null,
   "id": "128d5755",
   "metadata": {},
   "outputs": [],
   "source": []
  }
 ],
 "metadata": {
  "kernelspec": {
   "display_name": "Python 3 (ipykernel)",
   "language": "python",
   "name": "python3"
  },
  "language_info": {
   "codemirror_mode": {
    "name": "ipython",
    "version": 3
   },
   "file_extension": ".py",
   "mimetype": "text/x-python",
   "name": "python",
   "nbconvert_exporter": "python",
   "pygments_lexer": "ipython3",
   "version": "3.9.7"
  }
 },
 "nbformat": 4,
 "nbformat_minor": 5
}
